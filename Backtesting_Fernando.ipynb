{
 "cells": [
  {
   "cell_type": "markdown",
   "metadata": {},
   "source": [
    "# Backtesting a Momentum Trading Strategy"
   ]
  },
  {
   "cell_type": "markdown",
   "metadata": {},
   "source": [
    "## 1. Problem"
   ]
  },
  {
   "cell_type": "markdown",
   "metadata": {},
   "source": [
    "We aim to apply a trading strategy based only on the history of past prices, or momentum strategy: buys the previous winners (i.e. stocks with the highest returns in the recent past) and sells the losers (i.e., stocks with the lowest past returns).\n",
    "\n",
    "We will use a \"classical\" machine learning and deep learning model. One problem we face is the noise of the stock data; therefore we'll need to avoid overfitting on the training set.\n",
    "\n",
    "**Please see the Report for the complete picture of the project.**"
   ]
  },
  {
   "cell_type": "markdown",
   "metadata": {},
   "source": [
    "## 2. Getting the data"
   ]
  },
  {
   "cell_type": "code",
   "execution_count": 57,
   "metadata": {},
   "outputs": [],
   "source": [
    "import pandas as pd\n",
    "import numpy as np\n",
    "import matplotlib.pylab as plt\n",
    "%matplotlib inline\n",
    "from datetime import datetime\n",
    "from sklearn.linear_model import LogisticRegression\n",
    "import math\n",
    "import seaborn as sns\n",
    "import time\n",
    "from sklearn.ensemble import RandomForestClassifier\n",
    "from sklearn.model_selection import train_test_split\n",
    "from sklearn.model_selection import RandomizedSearchCV\n",
    "import tensorflow as tf\n",
    "from tensorflow.python.framework import ops\n",
    "from functools import partial"
   ]
  },
  {
   "cell_type": "markdown",
   "metadata": {},
   "source": [
    "The data was provided and it contains stock market data fo approximately 1500 securities listed on the US stock exchange. We'll work with daily data from February 2018 to July 2017. "
   ]
  },
  {
   "cell_type": "code",
   "execution_count": 58,
   "metadata": {},
   "outputs": [],
   "source": [
    "data=pd.read_csv(\"./final_project_data.csv\")\n",
    "data=data.dropna()\n",
    "data.index=range(len(data))"
   ]
  },
  {
   "cell_type": "code",
   "execution_count": 59,
   "metadata": {},
   "outputs": [
    {
     "data": {
      "text/plain": [
       "(3547259, 43)"
      ]
     },
     "execution_count": 59,
     "metadata": {},
     "output_type": "execute_result"
    }
   ],
   "source": [
    "data.shape"
   ]
  },
  {
   "cell_type": "code",
   "execution_count": 60,
   "metadata": {},
   "outputs": [
    {
     "data": {
      "text/plain": [
       "Index(['date', 'id', 'industry', 'ret_raw', 'flag', 'ret_20_raw', 'flag2',\n",
       "       'ret_raw_norm', 'ret_20_raw_norm', 'ret_raw_norm_lag_21',\n",
       "       'ret_raw_norm_lag_22', 'ret_raw_norm_lag_23', 'ret_raw_norm_lag_24',\n",
       "       'ret_raw_norm_lag_25', 'ret_raw_norm_lag_26', 'ret_raw_norm_lag_27',\n",
       "       'ret_raw_norm_lag_28', 'ret_raw_norm_lag_29', 'ret_raw_norm_lag_30',\n",
       "       'ret_raw_norm_lag_31', 'ret_raw_norm_lag_32', 'ret_raw_norm_lag_33',\n",
       "       'ret_raw_norm_lag_34', 'ret_raw_norm_lag_35', 'ret_raw_norm_lag_36',\n",
       "       'ret_raw_norm_lag_37', 'ret_raw_norm_lag_38', 'ret_raw_norm_lag_39',\n",
       "       'ret_raw_norm_lag_40', 'ret_20_raw_norm_lag_41_60',\n",
       "       'ret_20_raw_norm_lag_61_80', 'ret_20_raw_norm_lag_81_100',\n",
       "       'ret_20_raw_norm_lag_101_120', 'ret_20_raw_norm_lag_121_140',\n",
       "       'ret_20_raw_norm_lag_141_160', 'ret_20_raw_norm_lag_161_180',\n",
       "       'ret_20_raw_norm_lag_181_200', 'ret_20_raw_norm_lag_201_220',\n",
       "       'ret_20_raw_norm_lag_221_240', 'ret_20_raw_norm_lag_241_260',\n",
       "       'ret_20_raw_norm_lag_261_280', 'isJan', 'target'],\n",
       "      dtype='object')"
      ]
     },
     "execution_count": 60,
     "metadata": {},
     "output_type": "execute_result"
    }
   ],
   "source": [
    "data.columns"
   ]
  },
  {
   "cell_type": "code",
   "execution_count": 61,
   "metadata": {},
   "outputs": [
    {
     "data": {
      "text/html": [
       "<div>\n",
       "<style scoped>\n",
       "    .dataframe tbody tr th:only-of-type {\n",
       "        vertical-align: middle;\n",
       "    }\n",
       "\n",
       "    .dataframe tbody tr th {\n",
       "        vertical-align: top;\n",
       "    }\n",
       "\n",
       "    .dataframe thead th {\n",
       "        text-align: right;\n",
       "    }\n",
       "</style>\n",
       "<table border=\"1\" class=\"dataframe\">\n",
       "  <thead>\n",
       "    <tr style=\"text-align: right;\">\n",
       "      <th></th>\n",
       "      <th>date</th>\n",
       "      <th>id</th>\n",
       "      <th>industry</th>\n",
       "      <th>ret_raw</th>\n",
       "      <th>flag</th>\n",
       "      <th>ret_20_raw</th>\n",
       "      <th>flag2</th>\n",
       "      <th>ret_raw_norm</th>\n",
       "      <th>ret_20_raw_norm</th>\n",
       "      <th>ret_raw_norm_lag_21</th>\n",
       "      <th>...</th>\n",
       "      <th>ret_20_raw_norm_lag_121_140</th>\n",
       "      <th>ret_20_raw_norm_lag_141_160</th>\n",
       "      <th>ret_20_raw_norm_lag_161_180</th>\n",
       "      <th>ret_20_raw_norm_lag_181_200</th>\n",
       "      <th>ret_20_raw_norm_lag_201_220</th>\n",
       "      <th>ret_20_raw_norm_lag_221_240</th>\n",
       "      <th>ret_20_raw_norm_lag_241_260</th>\n",
       "      <th>ret_20_raw_norm_lag_261_280</th>\n",
       "      <th>isJan</th>\n",
       "      <th>target</th>\n",
       "    </tr>\n",
       "  </thead>\n",
       "  <tbody>\n",
       "    <tr>\n",
       "      <th>0</th>\n",
       "      <td>20080214</td>\n",
       "      <td>A US Equity</td>\n",
       "      <td>3520</td>\n",
       "      <td>-0.034888</td>\n",
       "      <td>True</td>\n",
       "      <td>-0.115785</td>\n",
       "      <td>False</td>\n",
       "      <td>-0.626602</td>\n",
       "      <td>-1.155291</td>\n",
       "      <td>-0.342618</td>\n",
       "      <td>...</td>\n",
       "      <td>-0.927360</td>\n",
       "      <td>0.184879</td>\n",
       "      <td>0.157539</td>\n",
       "      <td>1.093994</td>\n",
       "      <td>-0.189996</td>\n",
       "      <td>0.915039</td>\n",
       "      <td>-0.259174</td>\n",
       "      <td>-1.240792</td>\n",
       "      <td>0.0</td>\n",
       "      <td>0.0</td>\n",
       "    </tr>\n",
       "    <tr>\n",
       "      <th>1</th>\n",
       "      <td>20080214</td>\n",
       "      <td>AA US Equity</td>\n",
       "      <td>1510</td>\n",
       "      <td>-0.004224</td>\n",
       "      <td>True</td>\n",
       "      <td>0.160461</td>\n",
       "      <td>False</td>\n",
       "      <td>0.538586</td>\n",
       "      <td>1.116039</td>\n",
       "      <td>-0.616964</td>\n",
       "      <td>...</td>\n",
       "      <td>-0.811019</td>\n",
       "      <td>0.657379</td>\n",
       "      <td>-0.466201</td>\n",
       "      <td>1.449841</td>\n",
       "      <td>0.170922</td>\n",
       "      <td>0.042121</td>\n",
       "      <td>0.339868</td>\n",
       "      <td>1.037797</td>\n",
       "      <td>0.0</td>\n",
       "      <td>1.0</td>\n",
       "    </tr>\n",
       "    <tr>\n",
       "      <th>2</th>\n",
       "      <td>20080214</td>\n",
       "      <td>AAN US Equity</td>\n",
       "      <td>2550</td>\n",
       "      <td>0.000000</td>\n",
       "      <td>True</td>\n",
       "      <td>0.102639</td>\n",
       "      <td>False</td>\n",
       "      <td>0.699089</td>\n",
       "      <td>0.640614</td>\n",
       "      <td>0.803338</td>\n",
       "      <td>...</td>\n",
       "      <td>1.306399</td>\n",
       "      <td>-2.065115</td>\n",
       "      <td>0.532074</td>\n",
       "      <td>-0.593705</td>\n",
       "      <td>0.523305</td>\n",
       "      <td>-0.527815</td>\n",
       "      <td>-1.058531</td>\n",
       "      <td>0.101127</td>\n",
       "      <td>0.0</td>\n",
       "      <td>1.0</td>\n",
       "    </tr>\n",
       "    <tr>\n",
       "      <th>3</th>\n",
       "      <td>20080214</td>\n",
       "      <td>AAON US Equity</td>\n",
       "      <td>2010</td>\n",
       "      <td>-0.046684</td>\n",
       "      <td>True</td>\n",
       "      <td>0.013005</td>\n",
       "      <td>False</td>\n",
       "      <td>-1.074841</td>\n",
       "      <td>-0.096364</td>\n",
       "      <td>-0.091706</td>\n",
       "      <td>...</td>\n",
       "      <td>0.782537</td>\n",
       "      <td>-0.145668</td>\n",
       "      <td>1.478548</td>\n",
       "      <td>1.629201</td>\n",
       "      <td>-1.186070</td>\n",
       "      <td>-1.054264</td>\n",
       "      <td>0.029782</td>\n",
       "      <td>0.089869</td>\n",
       "      <td>0.0</td>\n",
       "      <td>0.0</td>\n",
       "    </tr>\n",
       "    <tr>\n",
       "      <th>4</th>\n",
       "      <td>20080214</td>\n",
       "      <td>AAP US Equity</td>\n",
       "      <td>2550</td>\n",
       "      <td>-0.040387</td>\n",
       "      <td>True</td>\n",
       "      <td>0.064812</td>\n",
       "      <td>False</td>\n",
       "      <td>-0.835580</td>\n",
       "      <td>0.329595</td>\n",
       "      <td>0.635282</td>\n",
       "      <td>...</td>\n",
       "      <td>-0.844002</td>\n",
       "      <td>-0.495810</td>\n",
       "      <td>-0.335421</td>\n",
       "      <td>-0.517209</td>\n",
       "      <td>0.466003</td>\n",
       "      <td>0.442235</td>\n",
       "      <td>-0.078167</td>\n",
       "      <td>0.179575</td>\n",
       "      <td>0.0</td>\n",
       "      <td>1.0</td>\n",
       "    </tr>\n",
       "  </tbody>\n",
       "</table>\n",
       "<p>5 rows × 43 columns</p>\n",
       "</div>"
      ],
      "text/plain": [
       "       date              id  industry   ret_raw  flag  ret_20_raw  flag2  \\\n",
       "0  20080214     A US Equity      3520 -0.034888  True   -0.115785  False   \n",
       "1  20080214    AA US Equity      1510 -0.004224  True    0.160461  False   \n",
       "2  20080214   AAN US Equity      2550  0.000000  True    0.102639  False   \n",
       "3  20080214  AAON US Equity      2010 -0.046684  True    0.013005  False   \n",
       "4  20080214   AAP US Equity      2550 -0.040387  True    0.064812  False   \n",
       "\n",
       "   ret_raw_norm  ret_20_raw_norm  ret_raw_norm_lag_21  ...  \\\n",
       "0     -0.626602        -1.155291            -0.342618  ...   \n",
       "1      0.538586         1.116039            -0.616964  ...   \n",
       "2      0.699089         0.640614             0.803338  ...   \n",
       "3     -1.074841        -0.096364            -0.091706  ...   \n",
       "4     -0.835580         0.329595             0.635282  ...   \n",
       "\n",
       "   ret_20_raw_norm_lag_121_140  ret_20_raw_norm_lag_141_160  \\\n",
       "0                    -0.927360                     0.184879   \n",
       "1                    -0.811019                     0.657379   \n",
       "2                     1.306399                    -2.065115   \n",
       "3                     0.782537                    -0.145668   \n",
       "4                    -0.844002                    -0.495810   \n",
       "\n",
       "   ret_20_raw_norm_lag_161_180  ret_20_raw_norm_lag_181_200  \\\n",
       "0                     0.157539                     1.093994   \n",
       "1                    -0.466201                     1.449841   \n",
       "2                     0.532074                    -0.593705   \n",
       "3                     1.478548                     1.629201   \n",
       "4                    -0.335421                    -0.517209   \n",
       "\n",
       "   ret_20_raw_norm_lag_201_220  ret_20_raw_norm_lag_221_240  \\\n",
       "0                    -0.189996                     0.915039   \n",
       "1                     0.170922                     0.042121   \n",
       "2                     0.523305                    -0.527815   \n",
       "3                    -1.186070                    -1.054264   \n",
       "4                     0.466003                     0.442235   \n",
       "\n",
       "   ret_20_raw_norm_lag_241_260  ret_20_raw_norm_lag_261_280  isJan  target  \n",
       "0                    -0.259174                    -1.240792    0.0     0.0  \n",
       "1                     0.339868                     1.037797    0.0     1.0  \n",
       "2                    -1.058531                     0.101127    0.0     1.0  \n",
       "3                     0.029782                     0.089869    0.0     0.0  \n",
       "4                    -0.078167                     0.179575    0.0     1.0  \n",
       "\n",
       "[5 rows x 43 columns]"
      ]
     },
     "execution_count": 61,
     "metadata": {},
     "output_type": "execute_result"
    }
   ],
   "source": [
    "data.head()"
   ]
  },
  {
   "cell_type": "markdown",
   "metadata": {},
   "source": [
    "### 33 Model Input Features (momentum driven features):\n",
    "\n",
    "\n",
    "'ret_raw_norm_lag_21',\n",
    "'ret_raw_norm_lag_22', 'ret_raw_norm_lag_23', 'ret_raw_norm_lag_24',\n",
    "'ret_raw_norm_lag_25', 'ret_raw_norm_lag_26', 'ret_raw_norm_lag_27',\n",
    "'ret_raw_norm_lag_28', 'ret_raw_norm_lag_29', 'ret_raw_norm_lag_30',\n",
    "'ret_raw_norm_lag_31', 'ret_raw_norm_lag_32', 'ret_raw_norm_lag_33',\n",
    "'ret_raw_norm_lag_34', 'ret_raw_norm_lag_35', 'ret_raw_norm_lag_36',\n",
    "'ret_raw_norm_lag_37', 'ret_raw_norm_lag_38', 'ret_raw_norm_lag_39',\n",
    "'ret_raw_norm_lag_40', 'ret_20_raw_norm_lag_41_60',\n",
    "'ret_20_raw_norm_lag_61_80', 'ret_20_raw_norm_lag_81_100',\n",
    "'ret_20_raw_norm_lag_101_120', 'ret_20_raw_norm_lag_121_140',\n",
    "'ret_20_raw_norm_lag_141_160', 'ret_20_raw_norm_lag_161_180',\n",
    "'ret_20_raw_norm_lag_181_200', 'ret_20_raw_norm_lag_201_220',\n",
    "'ret_20_raw_norm_lag_221_240', 'ret_20_raw_norm_lag_241_260',\n",
    "'ret_20_raw_norm_lag_261_280', 'isJan',\n",
    "\n"
   ]
  },
  {
   "cell_type": "markdown",
   "metadata": {},
   "source": [
    "## 3. Exploring the dataset"
   ]
  },
  {
   "cell_type": "markdown",
   "metadata": {},
   "source": [
    "**Ratio of longs per year**"
   ]
  },
  {
   "cell_type": "markdown",
   "metadata": {},
   "source": [
    "We present the proportion of bets per year involved in long positions. A value close to 0.5 is considered a long-short strategy. The year 2008 has surprisingly had the highest percentage of long positions."
   ]
  },
  {
   "cell_type": "code",
   "execution_count": 62,
   "metadata": {},
   "outputs": [
    {
     "name": "stdout",
     "output_type": "stream",
     "text": [
      "Year=2008, ratio of longs=0.5024824980227892\n",
      "Year=2009, ratio of longs=0.49712552218022676\n",
      "Year=2010, ratio of longs=0.4991963365075514\n",
      "Year=2011, ratio of longs=0.5012819544983043\n",
      "Year=2012, ratio of longs=0.49859481800255884\n",
      "Year=2013, ratio of longs=0.49762012866099714\n",
      "Year=2014, ratio of longs=0.49966623540235017\n",
      "Year=2015, ratio of longs=0.5000853069204663\n",
      "Year=2016, ratio of longs=0.4997055365890532\n"
     ]
    }
   ],
   "source": [
    "ratio=[]\n",
    "for i in range (2008,2017):\n",
    "    d=data[(data.date<=int(str(i)+'1231'))&(data.date>=int(str(i)+'0101'))]\n",
    "    y=d['target'].sum()/len(d)\n",
    "    ratio.append(y)\n",
    "    print(\"Year={}, ratio of longs={}\".format(i,y))"
   ]
  },
  {
   "cell_type": "code",
   "execution_count": 63,
   "metadata": {},
   "outputs": [
    {
     "data": {
      "image/png": "[encoded data removed]",
      "text/plain": [
       "<Figure size 432x288 with 1 Axes>"
      ]
     },
     "metadata": {
      "needs_background": "light"
     },
     "output_type": "display_data"
    }
   ],
   "source": [
    "year = ('2008','2009','2010','2011','2012','2013','2014','2015', '2016')\n",
    "plt.bar(year, ratio)\n",
    "plt.title('Ratio of longs per year')\n",
    "plt.ylim([0.494,0.505])\n",
    "plt.show()"
   ]
  },
  {
   "cell_type": "markdown",
   "metadata": {},
   "source": [
    "Distribution of returns"
   ]
  },
  {
   "cell_type": "code",
   "execution_count": 64,
   "metadata": {},
   "outputs": [
    {
     "data": {
      "image/png": "[encoded data removed]",
      "text/plain": [
       "<Figure size 432x288 with 1 Axes>"
      ]
     },
     "metadata": {
      "needs_background": "light"
     },
     "output_type": "display_data"
    }
   ],
   "source": [
    "data[\"ret_raw_norm\"].hist(bins=150, color='blue', edgecolor='black', linewidth=0.8, xlabelsize=11, ylabelsize=11, grid=False)\n",
    "plt.xlim([-5,5])\n",
    "plt.show()"
   ]
  },
  {
   "cell_type": "markdown",
   "metadata": {},
   "source": [
    "Frequency of bets: number of bets for long positions every 20 days"
   ]
  },
  {
   "cell_type": "code",
   "execution_count": 10,
   "metadata": {},
   "outputs": [
    {
     "name": "stdout",
     "output_type": "stream",
     "text": [
      "Year=2008, number of bets: Long=6747.0 and Short=6696.0\n",
      "Year=2009, number of bets: Long=7157.0 and Short=7247.0\n",
      "Year=2010, number of bets: Long=8469.0 and Short=8526.0\n",
      "Year=2011, number of bets: Long=8537.0 and Short=8498.0\n",
      "Year=2012, number of bets: Long=9586.0 and Short=9618.0\n",
      "Year=2013, number of bets: Long=10071.0 and Short=10164.0\n",
      "Year=2014, number of bets: Long=9841.0 and Short=9797.0\n",
      "Year=2015, number of bets: Long=11194.0 and Short=11160.0\n",
      "Year=2016, number of bets: Long=10555.0 and Short=10566.0\n"
     ]
    }
   ],
   "source": [
    "long=[]\n",
    "short=[]\n",
    "for i in range (2008,2017):\n",
    "    d=data[(data.date<=int(str(i)+'1231'))&(data.date>=int(str(i)+'0101'))]\n",
    "    l=(d['target']*d['flag2']).sum()\n",
    "    s=d['flag2'].sum()-l\n",
    "    long.append(l)\n",
    "    short.append(s)\n",
    "    print(\"Year={}, number of bets: Long={} and Short={}\".format(i,l,s))"
   ]
  },
  {
   "cell_type": "code",
   "execution_count": 11,
   "metadata": {},
   "outputs": [
    {
     "data": {
      "image/png": "[encoded data removed]",
      "text/plain": [
       "<Figure size 504x360 with 2 Axes>"
      ]
     },
     "metadata": {
      "needs_background": "light"
     },
     "output_type": "display_data"
    }
   ],
   "source": [
    "# Create a figure\n",
    "fig = plt.figure(figsize=(7,5))\n",
    "_ = plt.subplots_adjust(wspace = 0.4, hspace = 0.6 )\n",
    "fig.suptitle('Frequency of bets', fontweight=\"bold\")\n",
    "\n",
    "# Create a plot of price over time\n",
    "ax = fig.add_subplot(2, 1, 1)\n",
    "_ = ax.bar(year, long, color=\"blue\")\n",
    "_=ax.set_ylim([2000,12000])\n",
    "_ = ax.set_title(\"Long position\", fontweight=\"bold\")\n",
    "_ = ax.set_xlabel(\"Year\"); _ = ax.set_ylabel(\"Bets\")\n",
    "    \n",
    "# Create a plot of price over time\n",
    "ax = fig.add_subplot(2, 1, 2)\n",
    "_ = ax.bar(year, short, color=\"blue\")\n",
    "_=ax.set_ylim([2000,12000])\n",
    "_ = ax.set_title(\"Short position\", fontweight=\"bold\")\n",
    "_ = ax.set_xlabel(\"Year\"); _ = ax.set_ylabel(\"Bets\")"
   ]
  },
  {
   "cell_type": "markdown",
   "metadata": {},
   "source": [
    "## 4. Select a model"
   ]
  },
  {
   "cell_type": "markdown",
   "metadata": {},
   "source": [
    "### Logistic Regression - Baseline Strategy\n",
    "Use 5 years data for training and subsequent 1 year data for testing"
   ]
  },
  {
   "cell_type": "code",
   "execution_count": 15,
   "metadata": {},
   "outputs": [],
   "source": [
    "def strategy_train(model, date_n):\n",
    "    \n",
    "    \"\"\" \n",
    "    Parameters\n",
    "    ----------\n",
    "    model ->  Model used to train the data\n",
    "    date_n -> Introduce the year 2012 to train the data between 2008-2012\n",
    "           \n",
    "    Returns\n",
    "    --------\n",
    "    The probabilities of the training set 2008-2012\n",
    "    \n",
    "    \"\"\"    \n",
    "     \n",
    "    train=data[(data.date<=int(str(date_n)+'1231'))&(data.date>=int(str(date_n-4)+'0101'))]\n",
    "    train=train.dropna()\n",
    "    train.index=range(len(train))\n",
    "    #globals()['train_{}'.format(i)]=train.copy()\n",
    "    \n",
    "    test=data[(data.date<=int(str(date_n+1)+'1231'))&(data.date>=int(str(date_n+1)+'0101'))]\n",
    "    test=test.dropna()\n",
    "    test.index=range(len(test))\n",
    "    #globals()['test_{}'.format(i)]=test.copy() \n",
    "    \n",
    "    X_train=np.asarray(train.loc[:,'ret_raw_norm_lag_21':'isJan'])\n",
    "    Y_train=np.asarray(train.loc[:,'target'])\n",
    "    \n",
    "    X_test=np.asarray(test.loc[:,'ret_raw_norm_lag_21':'isJan'])\n",
    "    Y_test=np.asarray(test.loc[:,'target'])\n",
    "    \n",
    "    clf=model\n",
    "    clf.fit(X_train, Y_train)\n",
    "    #res=pd.concat((test.loc[:,['id','date','target']], pd.DataFrame(clf.predict_proba(X_test))),axis=1)\n",
    "    res=pd.concat((train.loc[:,['id','date','target']], pd.DataFrame(clf.predict_proba(X_train))),axis=1) # in_sample\n",
    "    res.columns=[\"id\",\"date\",'target',\"pred_zsprob_comp\",\"Alp\"]\n",
    "    res.index=range(len(res))\n",
    "    globals()[\"result_{}\".format(date_n)]=res.copy()\n",
    "    print(\"result_{}\".format(date_n))\n",
    "    acc_os=1.0*(clf.predict(X_test)==np.asarray(Y_test)).sum()/len(Y_test)\n",
    "    acc_in=1.0*(clf.predict(X_train)==np.asarray(Y_train)).sum()/len(Y_train)\n",
    "    print ('\\033[1m' \"Out of sample accuracy: {}\".format((acc_os)*100))\n",
    "    print ('\\033[1m' \"In sample accuracy: {}\".format((acc_in)*100))\n",
    "        \n",
    "    return "
   ]
  },
  {
   "cell_type": "code",
   "execution_count": 16,
   "metadata": {},
   "outputs": [
    {
     "name": "stdout",
     "output_type": "stream",
     "text": [
      "result_2012\n",
      "\u001b[1mOut of sample accuracy: 49.48831490824869\n",
      "\u001b[1mIn sample accuracy: 51.75502135023703\n"
     ]
    }
   ],
   "source": [
    "model=LogisticRegression(n_jobs=-1, solver='lbfgs')\n",
    "strategy_train(model, 2012)"
   ]
  },
  {
   "cell_type": "code",
   "execution_count": 17,
   "metadata": {},
   "outputs": [],
   "source": [
    "def strategy_test(model,date_n):\n",
    "    \n",
    "    \"\"\" \n",
    "    Parameters\n",
    "    ----------\n",
    "    model ->  Model used to train the data\n",
    "    date_n -> Introduce a year from 2013 onwards\n",
    "           \n",
    "    Returns\n",
    "    --------\n",
    "    The probabilities of the selected testing set (2013-2017)\n",
    "    \n",
    "    \"\"\"   \n",
    "    \n",
    "    train=data[(data.date<=int(str(date_n)+'1231'))&(data.date>=int(str(date_n-4)+'0101'))]\n",
    "    train=train.dropna()\n",
    "    train.index=range(len(train))\n",
    "    #globals()['train_{}'.format(i)]=train.copy()\n",
    "    \n",
    "    test=data[(data.date<=int(str(date_n+1)+'1231'))&(data.date>=int(str(date_n+1)+'0101'))]\n",
    "    test=test.dropna()\n",
    "    test.index=range(len(test))\n",
    "    #globals()['test_{}'.format(i)]=test.copy() \n",
    "    \n",
    "    X_train=np.asarray(train.loc[:,'ret_raw_norm_lag_21':'isJan'])\n",
    "    Y_train=np.asarray(train.loc[:,'target'])\n",
    "    \n",
    "    X_test=np.asarray(test.loc[:,'ret_raw_norm_lag_21':'isJan'])\n",
    "    Y_test=np.asarray(test.loc[:,'target'])\n",
    "    \n",
    "    clf=model\n",
    "    clf.fit(X_train, Y_train)\n",
    "    res=pd.concat((test.loc[:,['id','date','target']], pd.DataFrame(clf.predict_proba(X_test))),axis=1)\n",
    "    #res=pd.concat((train.loc[:,['id','date','target']], pd.DataFrame(clf.predict_proba(X_train))),axis=1) # in_sample\n",
    "    res.columns=[\"id\",\"date\",'target',\"pred_zsprob_comp\",\"Alp\"]\n",
    "    res.index=range(len(res))\n",
    "    globals()[\"result_{}\".format(date_n+1)]=res.copy()\n",
    "    print(\"result_{}\".format(date_n+1))\n",
    "    acc_os=1.0*(clf.predict(X_test)==np.asarray(Y_test)).sum()/len(Y_test)\n",
    "    acc_in=1.0*(clf.predict(X_train)==np.asarray(Y_train)).sum()/len(Y_train)\n",
    "    print ('\\033[1m' \"Out of sample accuracy: {}\".format((acc_os)*100))\n",
    "    print ('\\033[1m' \"In sample accuracy: {}\".format((acc_in)*100))\n",
    "        \n",
    "    return"
   ]
  },
  {
   "cell_type": "code",
   "execution_count": 18,
   "metadata": {},
   "outputs": [
    {
     "name": "stdout",
     "output_type": "stream",
     "text": [
      "result_2013\n",
      "\u001b[1mOut of sample accuracy: 49.48831490824869\n",
      "\u001b[1mIn sample accuracy: 51.75502135023703\n",
      "result_2014\n",
      "\u001b[1mOut of sample accuracy: 50.39408496311598\n",
      "\u001b[1mIn sample accuracy: 51.690981849004835\n",
      "result_2015\n",
      "\u001b[1mOut of sample accuracy: 51.460362254684966\n",
      "\u001b[1mIn sample accuracy: 51.62030084277889\n",
      "result_2016\n",
      "\u001b[1mOut of sample accuracy: 49.355903596515176\n",
      "\u001b[1mIn sample accuracy: 51.796276308551306\n",
      "result_2017\n",
      "\u001b[1mOut of sample accuracy: 51.82824126388505\n",
      "\u001b[1mIn sample accuracy: 51.481921277275354\n"
     ]
    }
   ],
   "source": [
    "model=LogisticRegression(n_jobs=-1, solver='lbfgs')\n",
    "for i in range(2012,2017):\n",
    "    strategy_test(model,i)"
   ]
  },
  {
   "cell_type": "code",
   "execution_count": 20,
   "metadata": {},
   "outputs": [],
   "source": [
    "RES=result_2012\n",
    "for i in range(2012,2018):\n",
    "    RES=pd.concat((RES,globals()[\"result_{}\".format(i)]),axis=0)\n",
    "\n",
    "tt=RES.merge(data.loc[:,[\"id\",\"date\",\"ret_raw\",\"ret_20_raw\",\"industry\",\"flag2\"]],left_on=[\"date\",\"id\"],right_on=[\"date\",\"id\"],how=\"left\")"
   ]
  },
  {
   "cell_type": "markdown",
   "metadata": {},
   "source": [
    "### Random Forest\n"
   ]
  },
  {
   "cell_type": "markdown",
   "metadata": {},
   "source": [
    "Overall:\n",
    "\n",
    "- The more trees the less likely the algorithm is to overfit.\n",
    "\n",
    "- Increasing the maximum depth of a tree make the model more complex and more likely to overfit. \n",
    "\n",
    "- The run time for a randomized search is drastically lower.\n",
    "\n",
    "- Dealing with financial data is extremely complicated. It’s easy to overfit."
   ]
  },
  {
   "cell_type": "markdown",
   "metadata": {},
   "source": [
    "<div class=\"alert alert-block alert-info\">\n",
    "    <b>Finding the optimal hyperparameters:</b> \n",
    "    <ul>\n",
    "        <li>I used a RandomizedSearchCV technique to narrow my search for optimal hyperparameters, then I used a hold-out strategy and choose the model with the highest accuracy. I presented the code for the training set 2008-2012, you can find the other years in the zip file under the name R2, R3, R4 and R5, since I ran the code for each year on a different notebook to decrease the time of waiting.</li>\n",
    "\n",
    "</div>"
   ]
  },
  {
   "cell_type": "code",
   "execution_count": 15,
   "metadata": {},
   "outputs": [
    {
     "name": "stdout",
     "output_type": "stream",
     "text": [
      "{'bootstrap': True, 'class_weight': 'balanced_subsample', 'criterion': 'gini', 'max_depth': None, 'max_features': 'auto', 'max_leaf_nodes': None, 'min_impurity_decrease': 0.0, 'min_impurity_split': None, 'min_samples_leaf': 1, 'min_samples_split': 2, 'min_weight_fraction_leaf': 0.0, 'n_estimators': 'warn', 'n_jobs': None, 'oob_score': False, 'random_state': 42, 'verbose': 0, 'warm_start': False}\n"
     ]
    }
   ],
   "source": [
    "rf= RandomForestClassifier(random_state = 99, class_weight= \"balanced_subsample\")\n",
    "print(rf.get_params())n_estimators = [int(x) for x in np.linspace(start = 45, stop = 105, num = 15)]\n",
    "\n",
    "# Number of features to consider at every split\n",
    "max_features = ['auto', 'sqrt']\n",
    "\n",
    "# Maximum number of levels in tree\n",
    "max_depth = [int(x) for x in np.linspace(4, 8, num = 5)]\n",
    "\n",
    "# Minimum number of samples required to split a node\n",
    "min_samples_split = [2, 5, 10]\n",
    "\n",
    "# Minimum number of samples required at each leaf node\n",
    "min_samples_leaf = [1, 2, 4]"
   ]
  },
  {
   "cell_type": "code",
   "execution_count": 16,
   "metadata": {
    "scrolled": true
   },
   "outputs": [
    {
     "name": "stdout",
     "output_type": "stream",
     "text": [
      "{'n_estimators': [45, 49, 53, 57, 62, 66, 70, 75, 79, 83, 87, 92, 96, 100, 105], 'max_features': ['auto', 'sqrt'], 'max_depth': [4, 5, 6, 7, 8], 'min_samples_split': [2, 5, 10], 'min_samples_leaf': [1, 2, 4]}\n"
     ]
    }
   ],
   "source": [
    "# Number of trees in random forest\n",
    "n_estimators = [int(x) for x in np.linspace(start = 45, stop = 105, num = 15)]\n",
    "\n",
    "# Number of features to consider at every split\n",
    "max_features = ['auto', 'sqrt']\n",
    "\n",
    "# Maximum number of levels in tree\n",
    "max_depth = [int(x) for x in np.linspace(4, 8, num = 5)]\n",
    "\n",
    "# Minimum number of samples required to split a node\n",
    "min_samples_split = [2, 5, 10]\n",
    "\n",
    "# Minimum number of samples required at each leaf node\n",
    "min_samples_leaf = [1, 2, 4]\n",
    "\n",
    "#Grid\n",
    "random_grid = {'n_estimators': n_estimators,'max_features': max_features,\n",
    "               'max_depth': max_depth,\n",
    "               'min_samples_split': min_samples_split,\n",
    "               'min_samples_leaf': min_samples_leaf}\n",
    "print(random_grid)"
   ]
  },
  {
   "cell_type": "markdown",
   "metadata": {},
   "source": [
    "<div class=\"alert alert-info\" role=\"alert\">\n",
    "  <strong>Trainig set: 2008-2012.</strong> \n",
    "</div>"
   ]
  },
  {
   "cell_type": "code",
   "execution_count": 8,
   "metadata": {
    "scrolled": true
   },
   "outputs": [
    {
     "name": "stdout",
     "output_type": "stream",
     "text": [
      "Fitting 5 folds for each of 10 candidates, totalling 50 fits\n"
     ]
    },
    {
     "name": "stderr",
     "output_type": "stream",
     "text": [
      "[Parallel(n_jobs=-1)]: Using backend LokyBackend with 4 concurrent workers.\n",
      "[Parallel(n_jobs=-1)]: Done  19 out of  50 | elapsed: 89.1min remaining: 145.4min\n",
      "[Parallel(n_jobs=-1)]: Done  45 out of  50 | elapsed: 216.9min remaining: 24.1min\n",
      "[Parallel(n_jobs=-1)]: Done  50 out of  50 | elapsed: 234.9min finished\n"
     ]
    },
    {
     "data": {
      "text/plain": [
       "RandomizedSearchCV(cv=5, error_score='raise-deprecating',\n",
       "          estimator=RandomForestClassifier(bootstrap=True, class_weight='balanced_subsample',\n",
       "            criterion='gini', max_depth=None, max_features='auto',\n",
       "            max_leaf_nodes=None, min_impurity_decrease=0.0,\n",
       "            min_impurity_split=None, min_samples_leaf=1,\n",
       "            min_samples_split=2, min_weight_fraction_leaf=0.0,\n",
       "            n_estimators='warn', n_jobs=None, oob_score=False,\n",
       "            random_state=42, verbose=0, warm_start=False),\n",
       "          fit_params=None, iid='warn', n_iter=10, n_jobs=-1,\n",
       "          param_distributions={'n_estimators': [45, 49, 53, 57, 62, 66, 70, 75, 79, 83, 87, 92, 96, 100, 105], 'max_features': ['auto', 'sqrt'], 'max_depth': [4, 5, 6, 7, 8], 'min_samples_split': [2, 5, 10], 'min_samples_leaf': [1, 2, 4]},\n",
       "          pre_dispatch=500, random_state=42, refit=True,\n",
       "          return_train_score='warn', scoring=None, verbose=2)"
      ]
     },
     "execution_count": 8,
     "metadata": {},
     "output_type": "execute_result"
    }
   ],
   "source": [
    "#First training set: 2008-2012\n",
    "i=2012\n",
    "\n",
    "train_rf=data[(data.date<=int(str(i)+'1231'))&(data.date>=int(str(i-4)+'0101'))]\n",
    "train_rf=train_rf.dropna()\n",
    "X_train_rf=np.asarray(train_rf.loc[:,'ret_raw_norm_lag_21':'isJan'])\n",
    "Y_train_rf=np.asarray(train_rf.loc[:,'target'])\n",
    "\n",
    "rf_random = RandomizedSearchCV(estimator = rf, param_distributions = random_grid, cv = 5, verbose=2, random_state=99, n_jobs = -1, pre_dispatch=500)\n",
    "rf_random.fit(X_train_rf, Y_train_rf)"
   ]
  },
  {
   "cell_type": "code",
   "execution_count": 9,
   "metadata": {},
   "outputs": [
    {
     "data": {
      "text/plain": [
       "{'n_estimators': 83,\n",
       " 'min_samples_split': 2,\n",
       " 'min_samples_leaf': 4,\n",
       " 'max_features': 'sqrt',\n",
       " 'max_depth': 7}"
      ]
     },
     "execution_count": 9,
     "metadata": {},
     "output_type": "execute_result"
    }
   ],
   "source": [
    "rf_random.best_params_"
   ]
  },
  {
   "cell_type": "markdown",
   "metadata": {},
   "source": [
    "**Validation score**"
   ]
  },
  {
   "cell_type": "code",
   "execution_count": 26,
   "metadata": {},
   "outputs": [
    {
     "name": "stdout",
     "output_type": "stream",
     "text": [
      "Score: 0.5236787920384351 n_estimator=  80 Max_depth= 6\n",
      "Score: 0.5266999215609374 n_estimator=  80 Max_depth= 7\n",
      "Score: 0.5297394352387489 n_estimator=  80 Max_depth= 8\n",
      "Score: 0.523740072556133 n_estimator=  81 Max_depth= 6\n",
      "Score: 0.5268653789587214 n_estimator=  81 Max_depth= 7\n",
      "Score: 0.5298068438082165 n_estimator=  81 Max_depth= 8\n",
      "Score: 0.5235746151583489 n_estimator=  83 Max_depth= 6\n",
      "Score: 0.5269450436317286 n_estimator=  83 Max_depth= 7\n",
      "Score: 0.5297823316011374 n_estimator=  83 Max_depth= 8\n",
      "Score: 0.5242732130601039 n_estimator=  85 Max_depth= 6\n",
      "Score: 0.5267121776644769 n_estimator=  85 Max_depth= 7\n",
      "Score: 0.5298313560152956 n_estimator=  85 Max_depth= 8\n",
      "Score: 0.5240280909893127 n_estimator=  86 Max_depth= 6\n",
      "Score: 0.527410775566232 n_estimator=  86 Max_depth= 7\n",
      "Score: 0.5297087949799 n_estimator=  86 Max_depth= 8\n",
      "Score: 0.5237523286596725 n_estimator=  88 Max_depth= 6\n",
      "Score: 0.5270859888224336 n_estimator=  88 Max_depth= 7\n",
      "Score: 0.5296781547210511 n_estimator=  88 Max_depth= 8\n",
      "Score: 0.5240709873517011 n_estimator=  90 Max_depth= 6\n",
      "Score: 0.5272759584272968 n_estimator=  90 Max_depth= 7\n",
      "Score: 0.5300335817236984 n_estimator=  90 Max_depth= 8\n"
     ]
    }
   ],
   "source": [
    "X_train_,X_vali_,Y_train_,Y_vali_ = train_test_split(X_train_rf, Y_train_rf, test_size=0.1, random_state=99)\n",
    "\n",
    "best_score = 0\n",
    "n_estimators = [int(x) for x in np.linspace(start = 80, stop = 90, num = 7)]\n",
    "max_depth = [int(x) for x in np.linspace(6, 8, num = 3)]\n",
    "for n in n_estimators:\n",
    "    for d in max_depth:\n",
    "        clf =  RandomForestClassifier(random_state = 99, class_weight= \"balanced_subsample\", n_estimators= n,\n",
    "        min_samples_split= 2, min_samples_leaf= 4, max_features='sqrt', max_depth=d)\n",
    "        clf.fit(X_train_,Y_train_) \n",
    "        score = clf.score(X_vali_, Y_vali_)\n",
    "        if score > best_score:\n",
    "            best_score = score\n",
    "        print (\"Score:\", score, \"n_estimator= \", n, \"Max_depth=\",d )"
   ]
  },
  {
   "cell_type": "markdown",
   "metadata": {},
   "source": [
    "Selecting the parameters asssociated with the highest valdiation score. Note that I won't select this model becuase of the depth and number of estimators are prone to overfit the model."
   ]
  },
  {
   "cell_type": "code",
   "execution_count": 29,
   "metadata": {},
   "outputs": [
    {
     "name": "stdout",
     "output_type": "stream",
     "text": [
      "\u001b[1mOut of sample accuracy: 50.065554869680994\n",
      "\u001b[1mIn sample accuracy: 54.40462008343996\n"
     ]
    }
   ],
   "source": [
    "test_rf=data[(data.date<=int(str(i+1)+'1231'))&(data.date>=int(str(i+1)+'0101'))]  \n",
    "test_rf=test_rf.dropna()\n",
    "X_test_rf=np.asarray(test_rf.loc[:,'ret_raw_norm_lag_21':'isJan'])\n",
    "Y_test_rf=np.asarray(test_rf.loc[:,'target'])\n",
    "\n",
    "clf =  RandomForestClassifier(random_state = 99, class_weight= \"balanced_subsample\", n_estimators= 90,\n",
    "min_samples_split= 2, min_samples_leaf= 4, max_features='sqrt', max_depth=8, n_jobs=-1)\n",
    "clf.fit(X_train_rf,Y_train_rf) \n",
    "\n",
    "acc_os=1.0*(clf.predict(X_test_rf)==np.asarray(Y_test_rf)).sum()/len(Y_test_rf)\n",
    "acc_in=1.0*(clf.predict(X_train_rf)==np.asarray(Y_train_rf)).sum()/len(Y_train_rf)\n",
    "print ('\\033[1m' \"Out of sample accuracy: {}\".format((acc_os)*100))\n",
    "print ('\\033[1m' \"In sample accuracy: {}\".format((acc_in)*100))"
   ]
  },
  {
   "cell_type": "markdown",
   "metadata": {},
   "source": [
    "<div class=\"alert alert-success\" role=\"alert\">\n",
    "  <strong>Success! Repeat same steps to get the best model for every year!</strong> You can find the other files to get the best model for each year in the zip file (I ran those notebooks on another computer to speed up the things).\n",
    "</div>"
   ]
  },
  {
   "cell_type": "markdown",
   "metadata": {},
   "source": [
    "**Best Models using Random Forest**"
   ]
  },
  {
   "cell_type": "code",
   "execution_count": 65,
   "metadata": {},
   "outputs": [
    {
     "name": "stdout",
     "output_type": "stream",
     "text": [
      "result_2012\n",
      "\u001b[1mOut of sample accuracy: 50.05586193175151\n",
      "\u001b[1mIn sample accuracy: 53.63726167889832\n"
     ]
    }
   ],
   "source": [
    "model_2012=  RandomForestClassifier(random_state = 99, class_weight= \"balanced_subsample\", n_estimators= 83,\n",
    "min_samples_split= 2, min_samples_leaf= 4, max_features='sqrt', max_depth=7, n_jobs=-1)\n",
    "\n",
    "strategy_train(model_2012, 2012)"
   ]
  },
  {
   "cell_type": "code",
   "execution_count": 66,
   "metadata": {},
   "outputs": [
    {
     "name": "stdout",
     "output_type": "stream",
     "text": [
      "result_2013\n",
      "\u001b[1mOut of sample accuracy: 50.05586193175151\n",
      "\u001b[1mIn sample accuracy: 53.63726167889832\n",
      "result_2014\n",
      "\u001b[1mOut of sample accuracy: 50.15134707391612\n",
      "\u001b[1mIn sample accuracy: 53.71484808294464\n",
      "result_2015\n",
      "\u001b[1mOut of sample accuracy: 51.7351888741331\n",
      "\u001b[1mIn sample accuracy: 52.75580904892524\n",
      "result_2016\n",
      "\u001b[1mOut of sample accuracy: 49.291595495273924\n",
      "\u001b[1mIn sample accuracy: 52.99021471248434\n",
      "result_2017\n",
      "\u001b[1mOut of sample accuracy: 51.07263927680532\n",
      "\u001b[1mIn sample accuracy: 54.766740709494464\n"
     ]
    }
   ],
   "source": [
    "model_2013=RandomForestClassifier(random_state = 99, class_weight= \"balanced_subsample\", n_estimators= 50,\n",
    "min_samples_split= 5, min_samples_leaf= 2, max_features='sqrt', max_depth=8, n_jobs=-1)\n",
    "\n",
    "model_2014=RandomForestClassifier(random_state = 99, class_weight= \"balanced_subsample\", n_estimators= 83,\n",
    "min_samples_split= 2, min_samples_leaf= 4, max_features='sqrt', max_depth=6, n_jobs=-1)\n",
    "\n",
    "model_2015=RandomForestClassifier(random_state = 99, class_weight= \"balanced_subsample\", n_estimators=79,\n",
    "min_samples_split= 5, min_samples_leaf= 1, max_features='sqrt', max_depth=6, n_jobs=-1)\n",
    "\n",
    "model_2016=RandomForestClassifier(random_state = 99, class_weight= \"balanced_subsample\", n_estimators= 63,\n",
    "min_samples_split= 10, min_samples_leaf= 2, max_features='sqrt', max_depth=9, n_jobs=-1)\n",
    "\n",
    "\n",
    "model= [model_2012, model_2013, model_2014, model_2015, model_2016]  \n",
    "year=list(range(2012, 2017, 1))\n",
    "    \n",
    "for a, b in zip(model, year):\n",
    "    strategy_test(a,b)"
   ]
  },
  {
   "cell_type": "code",
   "execution_count": 85,
   "metadata": {},
   "outputs": [],
   "source": [
    "RES_RF=result_2012\n",
    "for i in range(2012,2018):\n",
    "    RES_RF=pd.concat((RES_RF,globals()[\"result_{}\".format(i)]),axis=0)\n",
    "\n",
    "RF=RES_RF.merge(data.loc[:,[\"id\",\"date\",\"ret_raw\",\"ret_20_raw\",\"industry\",\"flag2\"]],left_on=[\"date\",\"id\"],right_on=[\"date\",\"id\"],how=\"left\")"
   ]
  },
  {
   "cell_type": "markdown",
   "metadata": {},
   "source": [
    "### Deep Neural Network"
   ]
  },
  {
   "cell_type": "markdown",
   "metadata": {},
   "source": [
    "**We follow the network architecture presented by Takeuchi and Lee (2013), using 3 hidden layers and a number of neurons per layer between 40 and 50.**\n",
    "\n",
    "Under normal cases, we could expect to get higher accuracy by minimizing softmax cross entropy, so we'll try to find the best combination of hyperparameters by chossing the highest accuracy."
   ]
  },
  {
   "cell_type": "code",
   "execution_count": 23,
   "metadata": {},
   "outputs": [],
   "source": [
    "def reset_graph(seed=42):\n",
    "    tf.reset_default_graph()\n",
    "    tf.set_random_seed(seed)\n",
    "    np.random.seed(seed)\n",
    "    \n",
    "def shuffle_batch(X, y, batch_size):\n",
    "    rnd_idx = np.random.permutation(len(X))\n",
    "    n_batches = len(X) // batch_size\n",
    "    for batch_idx in np.array_split(rnd_idx, n_batches):\n",
    "        X_batch, y_batch = X[batch_idx], y[batch_idx]\n",
    "        yield X_batch, y_batch"
   ]
  },
  {
   "cell_type": "markdown",
   "metadata": {},
   "source": [
    "I created a function to get the train and test set that will be useful for hyperparameter optimization."
   ]
  },
  {
   "cell_type": "code",
   "execution_count": 24,
   "metadata": {},
   "outputs": [],
   "source": [
    "def df_year(year_n):\n",
    "    \n",
    "    \"\"\" \n",
    "    Parameters\n",
    "    ----------\n",
    "    year_n -> Selected year\n",
    "           \n",
    "    Returns\n",
    "    --------\n",
    "    The train and test set for the year selected\n",
    "    \n",
    "    \"\"\" \n",
    "\n",
    "    train=data[(data.date<=int(str(year_n)+'1231'))&(data.date>=int(str(year_n-4)+'0101'))]\n",
    "    train=train.dropna()\n",
    "    X_train=np.asarray(train.loc[:,'ret_raw_norm_lag_21':'isJan'])\n",
    "    Y_train=np.asarray(train.loc[:,'target'])\n",
    "\n",
    "    test=data[(data.date<=int(str(year_n+1)+'1231'))&(data.date>=int(str(year_n+1)+'0101'))]  \n",
    "    test=test.dropna()\n",
    "    X_test=np.asarray(test.loc[:,'ret_raw_norm_lag_21':'isJan'])\n",
    "    Y_test=np.asarray(test.loc[:,'target'])\n",
    "    \n",
    "    return train, test, X_train, Y_train, X_test, Y_test  "
   ]
  },
  {
   "cell_type": "markdown",
   "metadata": {},
   "source": [
    "I defined the function below to get the validation accuracy of each model I trained, changing everytime the activation function. I will pass this function through a loop."
   ]
  },
  {
   "cell_type": "code",
   "execution_count": 184,
   "metadata": {},
   "outputs": [],
   "source": [
    "def dnn_cv(year_n,l_r, n_neurons):\n",
    "    \n",
    "    \"\"\" \n",
    "    Parameters\n",
    "    ----------\n",
    "    year_n -> Selected year (I need this argument to call the df_year function)\n",
    "    l_r -> learning rate\n",
    "    n_neurons -> number of neurons\n",
    "           \n",
    "    Returns\n",
    "    --------\n",
    "    Validation accuracy \n",
    "    \n",
    "    \"\"\" \n",
    "\n",
    "       \n",
    "    # hidden units in layers.\n",
    "    n_hidden1 = n_neurons\n",
    "    n_hidden2 = n_neurons\n",
    "    n_hidden3 = n_neurons\n",
    "    n_hidden4 = n_neurons\n",
    "    n_inputs = 33\n",
    "    n_outputs = 2\n",
    "\n",
    "    reset_graph()\n",
    "    batch_norm_momentum = 0.9\n",
    "\n",
    "    #Placehoder\n",
    "    X = tf.placeholder(tf.float32, shape=(None, n_inputs), name=\"X\")\n",
    "    y = tf.placeholder(tf.int32, shape=(None), name=\"y\")\n",
    "    training = tf.placeholder_with_default(False, shape=(), name='training')\n",
    "    scale = 0.00002\n",
    "\n",
    "    #Activation function\n",
    "    with tf.name_scope(\"dnn\"):\n",
    "        he_init = tf.variance_scaling_initializer()\n",
    "\n",
    "        my_batch_norm_layer = partial(\n",
    "            tf.layers.batch_normalization,\n",
    "            training=training,\n",
    "            momentum=batch_norm_momentum)\n",
    "\n",
    "        my_dense_layer = partial(\n",
    "            tf.layers.dense,\n",
    "            kernel_initializer=he_init, kernel_regularizer=tf.contrib.layers.l1_regularizer(scale))\n",
    "\n",
    "        hidden1 = my_dense_layer(X, n_hidden1, name=\"hidden1\")\n",
    "        bn1 = tf.nn.relu(my_batch_norm_layer(hidden1))\n",
    "        \n",
    "        hidden2 = my_dense_layer(bn1, n_hidden2, name=\"hidden2\")\n",
    "        bn2 = tf.nn.relu(my_batch_norm_layer(hidden2))\n",
    "        \n",
    "        hidden3 = my_dense_layer(bn2, n_hidden3, name=\"hidden3\")\n",
    "        bn3 = tf.nn.relu(my_batch_norm_layer(hidden3))\n",
    "\n",
    "        logits_before_bn = my_dense_layer(bn3, n_outputs, activation=None, name=\"outputs\")\n",
    "        logits = my_batch_norm_layer(logits_before_bn)\n",
    "        pred = tf.nn.softmax(logits)\n",
    "\n",
    "    #Cost function\n",
    "    with tf.name_scope(\"loss\"):\n",
    "        xentropy = tf.nn.sparse_softmax_cross_entropy_with_logits(labels=y, logits=logits)\n",
    "        base_loss = tf.reduce_mean(xentropy, name=\"avg_xentropy\")   \n",
    "        reg_losses = tf.get_collection(tf.GraphKeys.REGULARIZATION_LOSSES)\n",
    "        loss = tf.add_n([base_loss] + reg_losses, name=\"loss\")\n",
    " \n",
    "        learning_rate = l_r\n",
    "    with tf.name_scope(\"train\"):\n",
    "        optimizer = tf.train.AdamOptimizer(learning_rate) #Adam optimizer\n",
    "        training_op = optimizer.minimize(loss)\n",
    "    \n",
    "    with tf.name_scope(\"eval\"):\n",
    "        correct = tf.nn.in_top_k(logits, y, 1)\n",
    "        accuracy = tf.reduce_mean(tf.cast(correct, tf.float32))\n",
    "    \n",
    "    init = tf.global_variables_initializer()\n",
    "    \n",
    "    train, test, X_train, Y_train, X_test, Y_test =df_year(year_n)\n",
    "    \n",
    "    X_train_,X_vali_,Y_train_,Y_vali_ = train_test_split(X_train, Y_train, test_size=0.1, random_state=99)\n",
    "\n",
    "    #n_epochs and mini-batch\n",
    "    n_epochs = 5\n",
    "    batch_size = 1500\n",
    "\n",
    "    extra_update_ops = tf.get_collection(tf.GraphKeys.UPDATE_OPS)\n",
    "    \n",
    "    print(year_n-4,\"to\", year_n,\"training set\")\n",
    "    print(\"Activation function=RELU\")\n",
    "    with tf.Session() as sess:\n",
    "        init.run()\n",
    "        for epoch in range(n_epochs):\n",
    "            for X_batch, y_batch in shuffle_batch(X_train_, Y_train_, batch_size):\n",
    "                sess.run([training_op, extra_update_ops],\n",
    "                feed_dict={training: True, X: X_batch, y: y_batch})\n",
    "            accuracy_val = accuracy.eval(feed_dict={X: X_vali_, y: Y_vali_})  \n",
    "            print(\"{}\\tValidation accuracy: {:.6f}% \\tLearning_rate: {:.4f}\\tNumber of neurons: {}\".format(\n",
    "            epoch, accuracy_val*100 , l_r, n_neurons))\n",
    "            \n",
    "    return"
   ]
  },
  {
   "cell_type": "markdown",
   "metadata": {},
   "source": [
    "**Experiments start here**"
   ]
  },
  {
   "cell_type": "markdown",
   "metadata": {},
   "source": [
    "<div class=\"alert alert-info\" role=\"alert\">\n",
    "  <strong>Trainig set: 2008-2012.</strong> \n",
    "    \n",
    "  <u>Optimal hyperparamters</u>: \n",
    "    \n",
    "   <li>RELU activation function</li>\n",
    "      <li>Learning rate=0.001</li>\n",
    "         <li>Number of neurons=45</li>\n",
    "            <li>Hidden Layers=3</li>\n",
    "        \n",
    "</div>"
   ]
  },
  {
   "cell_type": "markdown",
   "metadata": {},
   "source": [
    "**ELU activation function.**"
   ]
  },
  {
   "cell_type": "code",
   "execution_count": 122,
   "metadata": {},
   "outputs": [
    {
     "name": "stdout",
     "output_type": "stream",
     "text": [
      "2008 to 2012 training set\n",
      "Activation function=ELU\n",
      "0\tValidation accuracy: 51.695633% \tLearning_rate: 0.0010\tNumber of neurons: 40\n",
      "1\tValidation accuracy: 52.014291% \tLearning_rate: 0.0010\tNumber of neurons: 40\n",
      "2\tValidation accuracy: 51.959139% \tLearning_rate: 0.0010\tNumber of neurons: 40\n",
      "3\tValidation accuracy: 52.206713% \tLearning_rate: 0.0010\tNumber of neurons: 40\n",
      "4\tValidation accuracy: 52.147883% \tLearning_rate: 0.0010\tNumber of neurons: 40\n",
      "2008 to 2012 training set\n",
      "Activation function=ELU\n",
      "0\tValidation accuracy: 51.415581% \tLearning_rate: 0.0055\tNumber of neurons: 40\n",
      "1\tValidation accuracy: 49.786130% \tLearning_rate: 0.0055\tNumber of neurons: 40\n",
      "2\tValidation accuracy: 51.668054% \tLearning_rate: 0.0055\tNumber of neurons: 40\n",
      "3\tValidation accuracy: 51.368392% \tLearning_rate: 0.0055\tNumber of neurons: 40\n",
      "4\tValidation accuracy: 51.539981% \tLearning_rate: 0.0055\tNumber of neurons: 40\n",
      "2008 to 2012 training set\n",
      "Activation function=ELU\n",
      "0\tValidation accuracy: 51.258701% \tLearning_rate: 0.0100\tNumber of neurons: 40\n",
      "1\tValidation accuracy: 49.786130% \tLearning_rate: 0.0100\tNumber of neurons: 40\n",
      "2\tValidation accuracy: 51.580423% \tLearning_rate: 0.0100\tNumber of neurons: 40\n",
      "3\tValidation accuracy: 50.318044% \tLearning_rate: 0.0100\tNumber of neurons: 40\n",
      "4\tValidation accuracy: 50.223058% \tLearning_rate: 0.0100\tNumber of neurons: 40\n",
      "2008 to 2012 training set\n",
      "Activation function=ELU\n",
      "0\tValidation accuracy: 51.909500% \tLearning_rate: 0.0010\tNumber of neurons: 42\n",
      "1\tValidation accuracy: 51.990390% \tLearning_rate: 0.0010\tNumber of neurons: 42\n",
      "2\tValidation accuracy: 51.889277% \tLearning_rate: 0.0010\tNumber of neurons: 42\n",
      "3\tValidation accuracy: 52.123982% \tLearning_rate: 0.0010\tNumber of neurons: 42\n",
      "4\tValidation accuracy: 52.108049% \tLearning_rate: 0.0010\tNumber of neurons: 42\n",
      "2008 to 2012 training set\n",
      "Activation function=ELU\n",
      "0\tValidation accuracy: 51.448059% \tLearning_rate: 0.0055\tNumber of neurons: 42\n",
      "1\tValidation accuracy: 49.786130% \tLearning_rate: 0.0055\tNumber of neurons: 42\n",
      "2\tValidation accuracy: 51.576138% \tLearning_rate: 0.0055\tNumber of neurons: 42\n",
      "3\tValidation accuracy: 50.905114% \tLearning_rate: 0.0055\tNumber of neurons: 42\n",
      "4\tValidation accuracy: 48.564810% \tLearning_rate: 0.0055\tNumber of neurons: 42\n",
      "2008 to 2012 training set\n",
      "Activation function=ELU\n",
      "0\tValidation accuracy: 51.247674% \tLearning_rate: 0.0100\tNumber of neurons: 42\n",
      "1\tValidation accuracy: 49.786130% \tLearning_rate: 0.0100\tNumber of neurons: 42\n",
      "2\tValidation accuracy: 51.500762% \tLearning_rate: 0.0100\tNumber of neurons: 42\n",
      "3\tValidation accuracy: 49.786130% \tLearning_rate: 0.0100\tNumber of neurons: 42\n",
      "4\tValidation accuracy: 51.313853% \tLearning_rate: 0.0100\tNumber of neurons: 42\n",
      "2008 to 2012 training set\n",
      "Activation function=ELU\n",
      "0\tValidation accuracy: 51.960975% \tLearning_rate: 0.0010\tNumber of neurons: 45\n",
      "1\tValidation accuracy: 51.800424% \tLearning_rate: 0.0010\tNumber of neurons: 45\n",
      "2\tValidation accuracy: 51.945657% \tLearning_rate: 0.0010\tNumber of neurons: 45\n",
      "3\tValidation accuracy: 52.431613% \tLearning_rate: 0.0010\tNumber of neurons: 45\n",
      "4\tValidation accuracy: 52.229387% \tLearning_rate: 0.0010\tNumber of neurons: 45\n",
      "2008 to 2012 training set\n",
      "Activation function=ELU\n",
      "0\tValidation accuracy: 51.489115% \tLearning_rate: 0.0055\tNumber of neurons: 45\n",
      "1\tValidation accuracy: 50.384229% \tLearning_rate: 0.0055\tNumber of neurons: 45\n",
      "2\tValidation accuracy: 51.602483% \tLearning_rate: 0.0055\tNumber of neurons: 45\n",
      "3\tValidation accuracy: 51.403326% \tLearning_rate: 0.0055\tNumber of neurons: 45\n",
      "4\tValidation accuracy: 51.210290% \tLearning_rate: 0.0055\tNumber of neurons: 45\n",
      "2008 to 2012 training set\n",
      "Activation function=ELU\n",
      "0\tValidation accuracy: 51.197422% \tLearning_rate: 0.0100\tNumber of neurons: 45\n",
      "1\tValidation accuracy: 49.786130% \tLearning_rate: 0.0100\tNumber of neurons: 45\n",
      "2\tValidation accuracy: 51.487279% \tLearning_rate: 0.0100\tNumber of neurons: 45\n",
      "3\tValidation accuracy: 50.585842% \tLearning_rate: 0.0100\tNumber of neurons: 45\n",
      "4\tValidation accuracy: 51.474410% \tLearning_rate: 0.0100\tNumber of neurons: 45\n",
      "2008 to 2012 training set\n",
      "Activation function=ELU\n",
      "0\tValidation accuracy: 51.669282% \tLearning_rate: 0.0010\tNumber of neurons: 47\n",
      "1\tValidation accuracy: 51.922983% \tLearning_rate: 0.0010\tNumber of neurons: 47\n",
      "2\tValidation accuracy: 52.036351% \tLearning_rate: 0.0010\tNumber of neurons: 47\n",
      "3\tValidation accuracy: 52.206099% \tLearning_rate: 0.0010\tNumber of neurons: 47\n",
      "4\tValidation accuracy: 52.120304% \tLearning_rate: 0.0010\tNumber of neurons: 47\n",
      "2008 to 2012 training set\n",
      "Activation function=ELU\n",
      "0\tValidation accuracy: 51.377589% \tLearning_rate: 0.0055\tNumber of neurons: 47\n",
      "1\tValidation accuracy: 49.786130% \tLearning_rate: 0.0055\tNumber of neurons: 47\n",
      "2\tValidation accuracy: 51.685214% \tLearning_rate: 0.0055\tNumber of neurons: 47\n",
      "3\tValidation accuracy: 51.478702% \tLearning_rate: 0.0055\tNumber of neurons: 47\n",
      "4\tValidation accuracy: 51.443154% \tLearning_rate: 0.0055\tNumber of neurons: 47\n",
      "2008 to 2012 training set\n",
      "Activation function=ELU\n",
      "0\tValidation accuracy: 50.948620% \tLearning_rate: 0.0100\tNumber of neurons: 47\n",
      "1\tValidation accuracy: 49.786130% \tLearning_rate: 0.0100\tNumber of neurons: 47\n",
      "2\tValidation accuracy: 51.589006% \tLearning_rate: 0.0100\tNumber of neurons: 47\n",
      "3\tValidation accuracy: 51.535076% \tLearning_rate: 0.0100\tNumber of neurons: 47\n",
      "4\tValidation accuracy: 51.422322% \tLearning_rate: 0.0100\tNumber of neurons: 47\n",
      "2008 to 2012 training set\n",
      "Activation function=ELU\n",
      "0\tValidation accuracy: 51.712793% \tLearning_rate: 0.0010\tNumber of neurons: 50\n",
      "1\tValidation accuracy: 52.081084% \tLearning_rate: 0.0010\tNumber of neurons: 50\n",
      "2\tValidation accuracy: 51.827997% \tLearning_rate: 0.0010\tNumber of neurons: 50\n",
      "3\tValidation accuracy: 52.192003% \tLearning_rate: 0.0010\tNumber of neurons: 50\n",
      "4\tValidation accuracy: 52.145433% \tLearning_rate: 0.0010\tNumber of neurons: 50\n",
      "2008 to 2012 training set\n",
      "Activation function=ELU\n",
      "0\tValidation accuracy: 51.590842% \tLearning_rate: 0.0055\tNumber of neurons: 50\n",
      "1\tValidation accuracy: 49.786130% \tLearning_rate: 0.0055\tNumber of neurons: 50\n",
      "2\tValidation accuracy: 51.528949% \tLearning_rate: 0.0055\tNumber of neurons: 50\n",
      "3\tValidation accuracy: 51.689506% \tLearning_rate: 0.0055\tNumber of neurons: 50\n",
      "4\tValidation accuracy: 51.434577% \tLearning_rate: 0.0055\tNumber of neurons: 50\n",
      "2008 to 2012 training set\n",
      "Activation function=ELU\n",
      "0\tValidation accuracy: 51.267278% \tLearning_rate: 0.0100\tNumber of neurons: 50\n",
      "1\tValidation accuracy: 49.786130% \tLearning_rate: 0.0100\tNumber of neurons: 50\n",
      "2\tValidation accuracy: 51.151460% \tLearning_rate: 0.0100\tNumber of neurons: 50\n",
      "3\tValidation accuracy: 50.975585% \tLearning_rate: 0.0100\tNumber of neurons: 50\n",
      "4\tValidation accuracy: 51.393521% \tLearning_rate: 0.0100\tNumber of neurons: 50\n",
      "2687.5830025672913\n"
     ]
    }
   ],
   "source": [
    "start = time. time()\n",
    "n_neurons = [int(x) for x in np.linspace(start = 40, stop = 50, num = 5)]\n",
    "Learning_rate = [float(x) for x in np.linspace(0.001, 0.01, num = 3)]\n",
    "for n in n_neurons:\n",
    "    for l in Learning_rate:\n",
    "        dnn_cv(2012, l,n)\n",
    "end = time. time()\n",
    "print(end - start)"
   ]
  },
  {
   "cell_type": "markdown",
   "metadata": {},
   "source": [
    "**We achieved a better validation score when the learning rate=0.001 and the number of neurons=45.**\n",
    "- In all the cases, an increase in the number of neurons doesn't improve the validation score, but a lower learning rate improves the score."
   ]
  },
  {
   "cell_type": "markdown",
   "metadata": {},
   "source": [
    "**ReLu activation function.**"
   ]
  },
  {
   "cell_type": "code",
   "execution_count": 133,
   "metadata": {},
   "outputs": [
    {
     "name": "stdout",
     "output_type": "stream",
     "text": [
      "2008 to 2012 training set\n",
      "Activation function=RELU\n",
      "0\tValidation accuracy: 52.280861% \tLearning_rate: 0.0010\tNumber of neurons: 40\n",
      "1\tValidation accuracy: 52.210999% \tLearning_rate: 0.0010\tNumber of neurons: 40\n",
      "2\tValidation accuracy: 52.425486% \tLearning_rate: 0.0010\tNumber of neurons: 40\n",
      "3\tValidation accuracy: 52.540690% \tLearning_rate: 0.0010\tNumber of neurons: 40\n",
      "4\tValidation accuracy: 52.532113% \tLearning_rate: 0.0010\tNumber of neurons: 40\n",
      "2008 to 2012 training set\n",
      "Activation function=RELU\n",
      "0\tValidation accuracy: 50.253087% \tLearning_rate: 0.0500\tNumber of neurons: 40\n",
      "1\tValidation accuracy: 50.692469% \tLearning_rate: 0.0500\tNumber of neurons: 40\n",
      "2\tValidation accuracy: 51.293629% \tLearning_rate: 0.0500\tNumber of neurons: 40\n",
      "3\tValidation accuracy: 50.103563% \tLearning_rate: 0.0500\tNumber of neurons: 40\n",
      "4\tValidation accuracy: 51.455414% \tLearning_rate: 0.0500\tNumber of neurons: 40\n",
      "2008 to 2012 training set\n",
      "Activation function=RELU\n",
      "0\tValidation accuracy: 52.305371% \tLearning_rate: 0.0010\tNumber of neurons: 42\n",
      "1\tValidation accuracy: 52.251446% \tLearning_rate: 0.0010\tNumber of neurons: 42\n",
      "2\tValidation accuracy: 52.368492% \tLearning_rate: 0.0010\tNumber of neurons: 42\n",
      "3\tValidation accuracy: 52.554172% \tLearning_rate: 0.0010\tNumber of neurons: 42\n",
      "4\tValidation accuracy: 52.622193% \tLearning_rate: 0.0010\tNumber of neurons: 42\n",
      "2008 to 2012 training set\n",
      "Activation function=RELU\n",
      "0\tValidation accuracy: 50.490856% \tLearning_rate: 0.0500\tNumber of neurons: 42\n",
      "1\tValidation accuracy: 49.686855% \tLearning_rate: 0.0500\tNumber of neurons: 42\n",
      "2\tValidation accuracy: 51.080990% \tLearning_rate: 0.0500\tNumber of neurons: 42\n",
      "3\tValidation accuracy: 49.786130% \tLearning_rate: 0.0500\tNumber of neurons: 42\n",
      "4\tValidation accuracy: 51.107949% \tLearning_rate: 0.0500\tNumber of neurons: 42\n",
      "2008 to 2012 training set\n",
      "Activation function=RELU\n",
      "0\tValidation accuracy: 52.323759% \tLearning_rate: 0.0010\tNumber of neurons: 45\n",
      "1\tValidation accuracy: 52.422416% \tLearning_rate: 0.0010\tNumber of neurons: 45\n",
      "2\tValidation accuracy: 52.442640% \tLearning_rate: 0.0010\tNumber of neurons: 45\n",
      "3\tValidation accuracy: 52.595842% \tLearning_rate: 0.0010\tNumber of neurons: 45\n",
      "4\tValidation accuracy: 52.586037% \tLearning_rate: 0.0010\tNumber of neurons: 45\n",
      "2008 to 2012 training set\n",
      "Activation function=RELU\n",
      "0\tValidation accuracy: 51.274633% \tLearning_rate: 0.0500\tNumber of neurons: 45\n",
      "1\tValidation accuracy: 49.352264% \tLearning_rate: 0.0500\tNumber of neurons: 45\n",
      "2\tValidation accuracy: 50.880599% \tLearning_rate: 0.0500\tNumber of neurons: 45\n",
      "3\tValidation accuracy: 49.781227% \tLearning_rate: 0.0500\tNumber of neurons: 45\n",
      "4\tValidation accuracy: 51.273412% \tLearning_rate: 0.0500\tNumber of neurons: 45\n",
      "2008 to 2012 training set\n",
      "Activation function=RELU\n",
      "0\tValidation accuracy: 52.308434% \tLearning_rate: 0.0010\tNumber of neurons: 47\n",
      "1\tValidation accuracy: 52.369720% \tLearning_rate: 0.0010\tNumber of neurons: 47\n",
      "2\tValidation accuracy: 52.245933% \tLearning_rate: 0.0010\tNumber of neurons: 47\n",
      "3\tValidation accuracy: 52.546817% \tLearning_rate: 0.0010\tNumber of neurons: 47\n",
      "4\tValidation accuracy: 52.384424% \tLearning_rate: 0.0010\tNumber of neurons: 47\n",
      "2008 to 2012 training set\n",
      "Activation function=RELU\n",
      "0\tValidation accuracy: 50.255537% \tLearning_rate: 0.0500\tNumber of neurons: 47\n",
      "1\tValidation accuracy: 48.828930% \tLearning_rate: 0.0500\tNumber of neurons: 47\n",
      "2\tValidation accuracy: 51.156366% \tLearning_rate: 0.0500\tNumber of neurons: 47\n",
      "3\tValidation accuracy: 50.642830% \tLearning_rate: 0.0500\tNumber of neurons: 47\n",
      "4\tValidation accuracy: 50.710243% \tLearning_rate: 0.0500\tNumber of neurons: 47\n",
      "2008 to 2012 training set\n",
      "Activation function=RELU\n",
      "0\tValidation accuracy: 52.139300% \tLearning_rate: 0.0010\tNumber of neurons: 50\n",
      "1\tValidation accuracy: 52.409548% \tLearning_rate: 0.0010\tNumber of neurons: 50\n",
      "2\tValidation accuracy: 52.491665% \tLearning_rate: 0.0010\tNumber of neurons: 50\n",
      "3\tValidation accuracy: 52.657121% \tLearning_rate: 0.0010\tNumber of neurons: 50\n",
      "4\tValidation accuracy: 52.601355% \tLearning_rate: 0.0010\tNumber of neurons: 50\n",
      "2008 to 2012 training set\n",
      "Activation function=RELU\n",
      "0\tValidation accuracy: 50.365847% \tLearning_rate: 0.0500\tNumber of neurons: 50\n",
      "1\tValidation accuracy: 49.788582% \tLearning_rate: 0.0500\tNumber of neurons: 50\n",
      "2\tValidation accuracy: 50.786841% \tLearning_rate: 0.0500\tNumber of neurons: 50\n",
      "3\tValidation accuracy: 49.780002% \tLearning_rate: 0.0500\tNumber of neurons: 50\n",
      "4\tValidation accuracy: 51.141042% \tLearning_rate: 0.0500\tNumber of neurons: 50\n",
      "1405.0104682445526\n"
     ]
    }
   ],
   "source": [
    "start = time. time()\n",
    "n_neurons = [int(x) for x in np.linspace(start = 40, stop = 50, num = 5)]\n",
    "Learning_rate = [float(x) for x in np.linspace(0.001, 0.05, num = 2)]\n",
    "for n in n_neurons:\n",
    "    for l in Learning_rate:\n",
    "        dnn_cv(2012, l,n)\n",
    "end = time. time()\n",
    "print(end - start)"
   ]
  },
  {
   "cell_type": "markdown",
   "metadata": {},
   "source": [
    "**Leaky ReLU activation function.**"
   ]
  },
  {
   "cell_type": "code",
   "execution_count": 128,
   "metadata": {},
   "outputs": [
    {
     "name": "stdout",
     "output_type": "stream",
     "text": [
      "2008 to 2012 training set\n",
      "Activation function=Leaky RELU\n",
      "0\tValidation accuracy: 51.970166% \tLearning_rate: 0.0010\tNumber of neurons: 40\n",
      "1\tValidation accuracy: 51.657027% \tLearning_rate: 0.0010\tNumber of neurons: 40\n",
      "2\tValidation accuracy: 52.113563% \tLearning_rate: 0.0010\tNumber of neurons: 40\n",
      "3\tValidation accuracy: 52.103758% \tLearning_rate: 0.0010\tNumber of neurons: 40\n",
      "4\tValidation accuracy: 52.058411% \tLearning_rate: 0.0010\tNumber of neurons: 40\n",
      "2008 to 2012 training set\n",
      "Activation function=Leaky RELU\n",
      "0\tValidation accuracy: 51.980585% \tLearning_rate: 0.0010\tNumber of neurons: 42\n",
      "1\tValidation accuracy: 52.190167% \tLearning_rate: 0.0010\tNumber of neurons: 42\n",
      "2\tValidation accuracy: 52.144819% \tLearning_rate: 0.0010\tNumber of neurons: 42\n",
      "3\tValidation accuracy: 52.378911% \tLearning_rate: 0.0010\tNumber of neurons: 42\n",
      "4\tValidation accuracy: 52.318239% \tLearning_rate: 0.0010\tNumber of neurons: 42\n",
      "2008 to 2012 training set\n",
      "Activation function=Leaky RELU\n",
      "0\tValidation accuracy: 51.820642% \tLearning_rate: 0.0010\tNumber of neurons: 45\n",
      "1\tValidation accuracy: 51.815742% \tLearning_rate: 0.0010\tNumber of neurons: 45\n",
      "2\tValidation accuracy: 51.964653% \tLearning_rate: 0.0010\tNumber of neurons: 45\n",
      "3\tValidation accuracy: 52.198130% \tLearning_rate: 0.0010\tNumber of neurons: 45\n",
      "4\tValidation accuracy: 52.296793% \tLearning_rate: 0.0010\tNumber of neurons: 45\n",
      "2008 to 2012 training set\n",
      "Activation function=Leaky RELU\n",
      "0\tValidation accuracy: 51.688278% \tLearning_rate: 0.0010\tNumber of neurons: 47\n",
      "1\tValidation accuracy: 51.914406% \tLearning_rate: 0.0010\tNumber of neurons: 47\n",
      "2\tValidation accuracy: 52.045542% \tLearning_rate: 0.0010\tNumber of neurons: 47\n",
      "3\tValidation accuracy: 52.364200% \tLearning_rate: 0.0010\tNumber of neurons: 47\n",
      "4\tValidation accuracy: 52.090889% \tLearning_rate: 0.0010\tNumber of neurons: 47\n",
      "2008 to 2012 training set\n",
      "Activation function=Leaky RELU\n",
      "0\tValidation accuracy: 51.677245% \tLearning_rate: 0.0010\tNumber of neurons: 50\n",
      "1\tValidation accuracy: 52.237350% \tLearning_rate: 0.0010\tNumber of neurons: 50\n",
      "2\tValidation accuracy: 52.312726% \tLearning_rate: 0.0010\tNumber of neurons: 50\n",
      "3\tValidation accuracy: 52.467155% \tLearning_rate: 0.0010\tNumber of neurons: 50\n",
      "4\tValidation accuracy: 52.375847% \tLearning_rate: 0.0010\tNumber of neurons: 50\n",
      "862.0781300067902\n"
     ]
    }
   ],
   "source": [
    "start = time. time()\n",
    "n_neurons = [int(x) for x in np.linspace(start = 40, stop = 50, num = 5)]\n",
    "l = 0.001\n",
    "for n in n_neurons:\n",
    "    dnn_cv(2012, l,n)\n",
    "end = time. time()\n",
    "print(end - start)"
   ]
  },
  {
   "cell_type": "markdown",
   "metadata": {},
   "source": [
    "**Relu activation function is the winner!** Note that an increase in the number of neurons from 40 to 45 improved the validation accuracy. Now I'll decrease/increase the number of hidden layers by 1, using a learning rate=0.001 and number of neurons=45. "
   ]
  },
  {
   "cell_type": "code",
   "execution_count": 131,
   "metadata": {},
   "outputs": [
    {
     "name": "stdout",
     "output_type": "stream",
     "text": [
      "Hidden layers=2\n",
      "2008 to 2012 training set\n",
      "Activation function=RELU\n",
      "0\tValidation accuracy: 52.323759% \tLearning_rate: 0.0010\tNumber of neurons: 45\n",
      "1\tValidation accuracy: 52.422416% \tLearning_rate: 0.0010\tNumber of neurons: 45\n",
      "2\tValidation accuracy: 52.442640% \tLearning_rate: 0.0010\tNumber of neurons: 45\n",
      "3\tValidation accuracy: 52.595842% \tLearning_rate: 0.0010\tNumber of neurons: 45\n",
      "4\tValidation accuracy: 52.586037% \tLearning_rate: 0.0010\tNumber of neurons: 45\n"
     ]
    }
   ],
   "source": [
    "print('Hidden layers=2')\n",
    "l=0.001\n",
    "n=45\n",
    "dnn_cv(2012, l,n)"
   ]
  },
  {
   "cell_type": "markdown",
   "metadata": {},
   "source": [
    "**The accuracy doesn't improve with 2 or 4 hidden layers.**"
   ]
  },
  {
   "cell_type": "code",
   "execution_count": 132,
   "metadata": {},
   "outputs": [
    {
     "name": "stdout",
     "output_type": "stream",
     "text": [
      "Hidden layers=4\n",
      "2008 to 2012 training set\n",
      "Activation function=RELU\n",
      "0\tValidation accuracy: 52.323759% \tLearning_rate: 0.0010\tNumber of neurons: 45\n",
      "1\tValidation accuracy: 52.422416% \tLearning_rate: 0.0010\tNumber of neurons: 45\n",
      "2\tValidation accuracy: 52.442640% \tLearning_rate: 0.0010\tNumber of neurons: 45\n",
      "3\tValidation accuracy: 52.595842% \tLearning_rate: 0.0010\tNumber of neurons: 45\n",
      "4\tValidation accuracy: 52.586037% \tLearning_rate: 0.0010\tNumber of neurons: 45\n"
     ]
    }
   ],
   "source": [
    "print('Hidden layers=4')\n",
    "l=0.001\n",
    "n=45\n",
    "dnn_cv(2012, l, n)"
   ]
  },
  {
   "cell_type": "markdown",
   "metadata": {},
   "source": [
    "<div class=\"alert alert-info\" role=\"alert\">\n",
    "  <strong>Trainig set: 2009-2013.</strong> \n",
    "    \n",
    "   From the previous experiment, we know that a learning rate=0.001 improves the validation score in all possible combinations. Therefore, I'll set the value of the learning rate equal to 0.001 in all the training sets.\n",
    "\n",
    "\n",
    "  <u>Optimal hyperparamters</u>: \n",
    "    \n",
    "   <li>RELU activation function</li>\n",
    "      <li>Learning rate=0.001</li>\n",
    "         <li>Number of neurons=47</li>\n",
    "            <li>Hidden Layers=3</li>\n",
    "        \n",
    "</div>"
   ]
  },
  {
   "cell_type": "markdown",
   "metadata": {},
   "source": [
    "**ELU activation**"
   ]
  },
  {
   "cell_type": "code",
   "execution_count": 136,
   "metadata": {},
   "outputs": [
    {
     "name": "stdout",
     "output_type": "stream",
     "text": [
      "2009 to 2013 training set\n",
      "Activation function=ELU\n",
      "0\tValidation accuracy: 51.754093% \tLearning_rate: 0.0010\tNumber of neurons: 40\n",
      "1\tValidation accuracy: 51.938587% \tLearning_rate: 0.0010\tNumber of neurons: 40\n",
      "2\tValidation accuracy: 52.328706% \tLearning_rate: 0.0010\tNumber of neurons: 40\n",
      "3\tValidation accuracy: 52.381825% \tLearning_rate: 0.0010\tNumber of neurons: 40\n",
      "4\tValidation accuracy: 52.588022% \tLearning_rate: 0.0010\tNumber of neurons: 40\n",
      "2009 to 2013 training set\n",
      "Activation function=ELU\n",
      "0\tValidation accuracy: 51.854622% \tLearning_rate: 0.0010\tNumber of neurons: 42\n",
      "1\tValidation accuracy: 52.103084% \tLearning_rate: 0.0010\tNumber of neurons: 42\n",
      "2\tValidation accuracy: 52.406383% \tLearning_rate: 0.0010\tNumber of neurons: 42\n",
      "3\tValidation accuracy: 52.533185% \tLearning_rate: 0.0010\tNumber of neurons: 42\n",
      "4\tValidation accuracy: 52.862757% \tLearning_rate: 0.0010\tNumber of neurons: 42\n",
      "2009 to 2013 training set\n",
      "Activation function=ELU\n",
      "0\tValidation accuracy: 51.844913% \tLearning_rate: 0.0010\tNumber of neurons: 45\n",
      "1\tValidation accuracy: 51.919740% \tLearning_rate: 0.0010\tNumber of neurons: 45\n",
      "2\tValidation accuracy: 52.292717% \tLearning_rate: 0.0010\tNumber of neurons: 45\n",
      "3\tValidation accuracy: 52.517194% \tLearning_rate: 0.0010\tNumber of neurons: 45\n",
      "4\tValidation accuracy: 52.556032% \tLearning_rate: 0.0010\tNumber of neurons: 45\n",
      "2009 to 2013 training set\n",
      "Activation function=ELU\n",
      "0\tValidation accuracy: 51.642716% \tLearning_rate: 0.0010\tNumber of neurons: 47\n",
      "1\tValidation accuracy: 52.149349% \tLearning_rate: 0.0010\tNumber of neurons: 47\n",
      "2\tValidation accuracy: 52.403527% \tLearning_rate: 0.0010\tNumber of neurons: 47\n",
      "3\tValidation accuracy: 52.516621% \tLearning_rate: 0.0010\tNumber of neurons: 47\n",
      "4\tValidation accuracy: 52.731383% \tLearning_rate: 0.0010\tNumber of neurons: 47\n",
      "2009 to 2013 training set\n",
      "Activation function=ELU\n",
      "0\tValidation accuracy: 51.703262% \tLearning_rate: 0.0010\tNumber of neurons: 50\n",
      "1\tValidation accuracy: 52.128220% \tLearning_rate: 0.0010\tNumber of neurons: 50\n",
      "2\tValidation accuracy: 52.532613% \tLearning_rate: 0.0010\tNumber of neurons: 50\n",
      "3\tValidation accuracy: 52.360117% \tLearning_rate: 0.0010\tNumber of neurons: 50\n",
      "4\tValidation accuracy: 52.731955% \tLearning_rate: 0.0010\tNumber of neurons: 50\n",
      "178.41281056404114\n"
     ]
    }
   ],
   "source": [
    "start = time. time()\n",
    "n_neurons = [int(x) for x in np.linspace(start = 40, stop = 50, num = 5)]\n",
    "l = 0.001\n",
    "for n in n_neurons:\n",
    "    dnn_cv(2013, l,n)\n",
    "end = time. time()\n",
    "print(end - start)"
   ]
  },
  {
   "cell_type": "markdown",
   "metadata": {},
   "source": [
    "**ReLU activation function.**"
   ]
  },
  {
   "cell_type": "code",
   "execution_count": 139,
   "metadata": {},
   "outputs": [
    {
     "name": "stdout",
     "output_type": "stream",
     "text": [
      "2009 to 2013 training set\n",
      "Activation function=RELU\n",
      "0\tValidation accuracy: 51.747239% \tLearning_rate: 0.0010\tNumber of neurons: 40\n",
      "1\tValidation accuracy: 52.086520% \tLearning_rate: 0.0010\tNumber of neurons: 40\n",
      "2\tValidation accuracy: 52.590305% \tLearning_rate: 0.0010\tNumber of neurons: 40\n",
      "3\tValidation accuracy: 53.001553% \tLearning_rate: 0.0010\tNumber of neurons: 40\n",
      "4\tValidation accuracy: 53.135210% \tLearning_rate: 0.0010\tNumber of neurons: 40\n",
      "2009 to 2013 training set\n",
      "Activation function=RELU\n",
      "0\tValidation accuracy: 51.716399% \tLearning_rate: 0.0010\tNumber of neurons: 42\n",
      "1\tValidation accuracy: 52.184194% \tLearning_rate: 0.0010\tNumber of neurons: 42\n",
      "2\tValidation accuracy: 52.662843% \tLearning_rate: 0.0010\tNumber of neurons: 42\n",
      "3\tValidation accuracy: 53.010124% \tLearning_rate: 0.0010\tNumber of neurons: 42\n",
      "4\tValidation accuracy: 53.235167% \tLearning_rate: 0.0010\tNumber of neurons: 42\n",
      "2009 to 2013 training set\n",
      "Activation function=RELU\n",
      "0\tValidation accuracy: 51.672989% \tLearning_rate: 0.0010\tNumber of neurons: 45\n",
      "1\tValidation accuracy: 51.922596% \tLearning_rate: 0.0010\tNumber of neurons: 45\n",
      "2\tValidation accuracy: 52.609724% \tLearning_rate: 0.0010\tNumber of neurons: 45\n",
      "3\tValidation accuracy: 53.080374% \tLearning_rate: 0.0010\tNumber of neurons: 45\n",
      "4\tValidation accuracy: 53.206605% \tLearning_rate: 0.0010\tNumber of neurons: 45\n",
      "2009 to 2013 training set\n",
      "Activation function=RELU\n",
      "0\tValidation accuracy: 51.758665% \tLearning_rate: 0.0010\tNumber of neurons: 47\n",
      "1\tValidation accuracy: 52.280724% \tLearning_rate: 0.0010\tNumber of neurons: 47\n",
      "2\tValidation accuracy: 52.794218% \tLearning_rate: 0.0010\tNumber of neurons: 47\n",
      "3\tValidation accuracy: 53.242594% \tLearning_rate: 0.0010\tNumber of neurons: 47\n",
      "4\tValidation accuracy: 53.317416% \tLearning_rate: 0.0010\tNumber of neurons: 47\n",
      "2009 to 2013 training set\n",
      "Activation function=RELU\n",
      "0\tValidation accuracy: 51.851767% \tLearning_rate: 0.0010\tNumber of neurons: 50\n",
      "1\tValidation accuracy: 52.229315% \tLearning_rate: 0.0010\tNumber of neurons: 50\n",
      "2\tValidation accuracy: 52.736527% \tLearning_rate: 0.0010\tNumber of neurons: 50\n",
      "3\tValidation accuracy: 53.051817% \tLearning_rate: 0.0010\tNumber of neurons: 50\n",
      "4\tValidation accuracy: 53.212321% \tLearning_rate: 0.0010\tNumber of neurons: 50\n",
      "183.6957986354828\n"
     ]
    }
   ],
   "source": [
    "start = time. time()\n",
    "n_neurons = [int(x) for x in np.linspace(start = 40, stop = 50, num = 5)]\n",
    "l = 0.001\n",
    "for n in n_neurons:\n",
    "    dnn_cv(2013, l,n)\n",
    "end = time. time()\n",
    "print(end - start)"
   ]
  },
  {
   "cell_type": "markdown",
   "metadata": {},
   "source": [
    "**Leaky ReLU activation function.**"
   ]
  },
  {
   "cell_type": "code",
   "execution_count": 142,
   "metadata": {},
   "outputs": [
    {
     "name": "stdout",
     "output_type": "stream",
     "text": [
      "2009 to 2013 training set\n",
      "Activation function=Leaky RELU\n",
      "0\tValidation accuracy: 51.811212% \tLearning_rate: 0.0010\tNumber of neurons: 40\n",
      "1\tValidation accuracy: 52.131647% \tLearning_rate: 0.0010\tNumber of neurons: 40\n",
      "2\tValidation accuracy: 52.480066% \tLearning_rate: 0.0010\tNumber of neurons: 40\n",
      "3\tValidation accuracy: 52.727956% \tLearning_rate: 0.0010\tNumber of neurons: 40\n",
      "4\tValidation accuracy: 52.898741% \tLearning_rate: 0.0010\tNumber of neurons: 40\n",
      "2009 to 2013 training set\n",
      "Activation function=Leaky RELU\n",
      "0\tValidation accuracy: 51.680416% \tLearning_rate: 0.0010\tNumber of neurons: 42\n",
      "1\tValidation accuracy: 52.098519% \tLearning_rate: 0.0010\tNumber of neurons: 42\n",
      "2\tValidation accuracy: 52.584594% \tLearning_rate: 0.0010\tNumber of neurons: 42\n",
      "3\tValidation accuracy: 52.811348% \tLearning_rate: 0.0010\tNumber of neurons: 42\n",
      "4\tValidation accuracy: 52.963853% \tLearning_rate: 0.0010\tNumber of neurons: 42\n",
      "2009 to 2013 training set\n",
      "Activation function=Leaky RELU\n",
      "0\tValidation accuracy: 51.663280% \tLearning_rate: 0.0010\tNumber of neurons: 45\n",
      "1\tValidation accuracy: 52.066529% \tLearning_rate: 0.0010\tNumber of neurons: 45\n",
      "2\tValidation accuracy: 52.455503% \tLearning_rate: 0.0010\tNumber of neurons: 45\n",
      "3\tValidation accuracy: 52.598298% \tLearning_rate: 0.0010\tNumber of neurons: 45\n",
      "4\tValidation accuracy: 52.932441% \tLearning_rate: 0.0010\tNumber of neurons: 45\n",
      "2009 to 2013 training set\n",
      "Activation function=Leaky RELU\n",
      "0\tValidation accuracy: 51.649570% \tLearning_rate: 0.0010\tNumber of neurons: 47\n",
      "1\tValidation accuracy: 52.095664% \tLearning_rate: 0.0010\tNumber of neurons: 47\n",
      "2\tValidation accuracy: 52.654278% \tLearning_rate: 0.0010\tNumber of neurons: 47\n",
      "3\tValidation accuracy: 52.931297% \tLearning_rate: 0.0010\tNumber of neurons: 47\n",
      "4\tValidation accuracy: 52.910733% \tLearning_rate: 0.0010\tNumber of neurons: 47\n",
      "2009 to 2013 training set\n",
      "Activation function=Leaky RELU\n",
      "0\tValidation accuracy: 51.818639% \tLearning_rate: 0.0010\tNumber of neurons: 50\n",
      "1\tValidation accuracy: 52.175057% \tLearning_rate: 0.0010\tNumber of neurons: 50\n",
      "2\tValidation accuracy: 52.730817% \tLearning_rate: 0.0010\tNumber of neurons: 50\n",
      "3\tValidation accuracy: 52.889031% \tLearning_rate: 0.0010\tNumber of neurons: 50\n",
      "4\tValidation accuracy: 52.909023% \tLearning_rate: 0.0010\tNumber of neurons: 50\n",
      "174.96638345718384\n"
     ]
    }
   ],
   "source": [
    "start = time. time()\n",
    "n_neurons = [int(x) for x in np.linspace(start = 40, stop = 50, num = 5)]\n",
    "l = 0.001\n",
    "for n in n_neurons:\n",
    "    dnn_cv(2013, l,n)\n",
    "end = time. time()\n",
    "print(end - start)"
   ]
  },
  {
   "cell_type": "markdown",
   "metadata": {},
   "source": [
    "<div class=\"alert alert-info\" role=\"alert\">\n",
    "  <strong>Trainig set: 2010-2014.</strong> \n",
    "\n",
    "  <u>Optimal hyperparamters</u>: \n",
    "    \n",
    "   <li>RELU activation function</li>\n",
    "      <li>Learning rate=0.001</li>\n",
    "         <li>Number of neurons=47</li>\n",
    "            <li>Hidden Layers=3</li>\n",
    "        \n",
    "</div>"
   ]
  },
  {
   "cell_type": "markdown",
   "metadata": {},
   "source": [
    "**ELU activation**"
   ]
  },
  {
   "cell_type": "code",
   "execution_count": 146,
   "metadata": {},
   "outputs": [
    {
     "name": "stdout",
     "output_type": "stream",
     "text": [
      "2010 to 2014 training set\n",
      "Activation function=ELU\n",
      "0\tValidation accuracy: 51.621342% \tLearning_rate: 0.0010\tNumber of neurons: 40\n",
      "1\tValidation accuracy: 51.826060% \tLearning_rate: 0.0010\tNumber of neurons: 40\n",
      "2\tValidation accuracy: 51.990479% \tLearning_rate: 0.0010\tNumber of neurons: 40\n",
      "3\tValidation accuracy: 52.197880% \tLearning_rate: 0.0010\tNumber of neurons: 40\n",
      "4\tValidation accuracy: 52.454716% \tLearning_rate: 0.0010\tNumber of neurons: 40\n",
      "2010 to 2014 training set\n",
      "Activation function=ELU\n",
      "0\tValidation accuracy: 51.789522% \tLearning_rate: 0.0010\tNumber of neurons: 42\n",
      "1\tValidation accuracy: 51.893222% \tLearning_rate: 0.0010\tNumber of neurons: 42\n",
      "2\tValidation accuracy: 51.901823% \tLearning_rate: 0.0010\tNumber of neurons: 42\n",
      "3\tValidation accuracy: 52.110839% \tLearning_rate: 0.0010\tNumber of neurons: 42\n",
      "4\tValidation accuracy: 52.443433% \tLearning_rate: 0.0010\tNumber of neurons: 42\n",
      "2010 to 2014 training set\n",
      "Activation function=ELU\n",
      "0\tValidation accuracy: 51.614362% \tLearning_rate: 0.0010\tNumber of neurons: 45\n",
      "1\tValidation accuracy: 51.926541% \tLearning_rate: 0.0010\tNumber of neurons: 45\n",
      "2\tValidation accuracy: 52.052271% \tLearning_rate: 0.0010\tNumber of neurons: 45\n",
      "3\tValidation accuracy: 52.185524% \tLearning_rate: 0.0010\tNumber of neurons: 45\n",
      "4\tValidation accuracy: 52.325225% \tLearning_rate: 0.0010\tNumber of neurons: 45\n",
      "2010 to 2014 training set\n",
      "Activation function=ELU\n",
      "0\tValidation accuracy: 51.575136% \tLearning_rate: 0.0010\tNumber of neurons: 47\n",
      "1\tValidation accuracy: 51.798660% \tLearning_rate: 0.0010\tNumber of neurons: 47\n",
      "2\tValidation accuracy: 51.811016% \tLearning_rate: 0.0010\tNumber of neurons: 47\n",
      "3\tValidation accuracy: 52.243018% \tLearning_rate: 0.0010\tNumber of neurons: 47\n",
      "4\tValidation accuracy: 52.514899% \tLearning_rate: 0.0010\tNumber of neurons: 47\n",
      "2010 to 2014 training set\n",
      "Activation function=ELU\n",
      "0\tValidation accuracy: 51.699793% \tLearning_rate: 0.0010\tNumber of neurons: 50\n",
      "1\tValidation accuracy: 51.847553% \tLearning_rate: 0.0010\tNumber of neurons: 50\n",
      "2\tValidation accuracy: 51.819074% \tLearning_rate: 0.0010\tNumber of neurons: 50\n",
      "3\tValidation accuracy: 52.184451% \tLearning_rate: 0.0010\tNumber of neurons: 50\n",
      "4\tValidation accuracy: 52.298361% \tLearning_rate: 0.0010\tNumber of neurons: 50\n",
      "195.96009039878845\n"
     ]
    }
   ],
   "source": [
    "start = time. time()\n",
    "n_neurons = [int(x) for x in np.linspace(start = 40, stop = 50, num = 5)]\n",
    "l = 0.001\n",
    "for n in n_neurons:\n",
    "    dnn_cv(2014, l,n)\n",
    "end = time. time()\n",
    "print(end - start)"
   ]
  },
  {
   "cell_type": "markdown",
   "metadata": {},
   "source": [
    "**RELU activation**"
   ]
  },
  {
   "cell_type": "code",
   "execution_count": 149,
   "metadata": {},
   "outputs": [
    {
     "name": "stdout",
     "output_type": "stream",
     "text": [
      "2010 to 2014 training set\n",
      "Activation function=RELU\n",
      "0\tValidation accuracy: 51.648748% \tLearning_rate: 0.0010\tNumber of neurons: 40\n",
      "1\tValidation accuracy: 51.903433% \tLearning_rate: 0.0010\tNumber of neurons: 40\n",
      "2\tValidation accuracy: 52.527791% \tLearning_rate: 0.0010\tNumber of neurons: 40\n",
      "3\tValidation accuracy: 52.821702% \tLearning_rate: 0.0010\tNumber of neurons: 40\n",
      "4\tValidation accuracy: 53.139794% \tLearning_rate: 0.0010\tNumber of neurons: 40\n",
      "2010 to 2014 training set\n",
      "Activation function=RELU\n",
      "0\tValidation accuracy: 51.518714% \tLearning_rate: 0.0010\tNumber of neurons: 42\n",
      "1\tValidation accuracy: 51.980805% \tLearning_rate: 0.0010\tNumber of neurons: 42\n",
      "2\tValidation accuracy: 52.407432% \tLearning_rate: 0.0010\tNumber of neurons: 42\n",
      "3\tValidation accuracy: 52.778721% \tLearning_rate: 0.0010\tNumber of neurons: 42\n",
      "4\tValidation accuracy: 52.887791% \tLearning_rate: 0.0010\tNumber of neurons: 42\n",
      "2010 to 2014 training set\n",
      "Activation function=RELU\n",
      "0\tValidation accuracy: 51.701939% \tLearning_rate: 0.0010\tNumber of neurons: 45\n",
      "1\tValidation accuracy: 51.936746% \tLearning_rate: 0.0010\tNumber of neurons: 45\n",
      "2\tValidation accuracy: 52.543372% \tLearning_rate: 0.0010\tNumber of neurons: 45\n",
      "3\tValidation accuracy: 52.680928% \tLearning_rate: 0.0010\tNumber of neurons: 45\n",
      "4\tValidation accuracy: 52.982897% \tLearning_rate: 0.0010\tNumber of neurons: 45\n",
      "2010 to 2014 training set\n",
      "Activation function=RELU\n",
      "0\tValidation accuracy: 51.565462% \tLearning_rate: 0.0010\tNumber of neurons: 47\n",
      "1\tValidation accuracy: 51.867974% \tLearning_rate: 0.0010\tNumber of neurons: 47\n",
      "2\tValidation accuracy: 52.517581% \tLearning_rate: 0.0010\tNumber of neurons: 47\n",
      "3\tValidation accuracy: 52.927017% \tLearning_rate: 0.0010\tNumber of neurons: 47\n",
      "4\tValidation accuracy: 53.150541% \tLearning_rate: 0.0010\tNumber of neurons: 47\n",
      "2010 to 2014 training set\n",
      "Activation function=RELU\n",
      "0\tValidation accuracy: 51.613820% \tLearning_rate: 0.0010\tNumber of neurons: 50\n",
      "1\tValidation accuracy: 52.202183% \tLearning_rate: 0.0010\tNumber of neurons: 50\n",
      "2\tValidation accuracy: 52.567554% \tLearning_rate: 0.0010\tNumber of neurons: 50\n",
      "3\tValidation accuracy: 52.928090% \tLearning_rate: 0.0010\tNumber of neurons: 50\n",
      "4\tValidation accuracy: 53.037167% \tLearning_rate: 0.0010\tNumber of neurons: 50\n",
      "195.14319014549255\n"
     ]
    }
   ],
   "source": [
    "start = time. time()\n",
    "n_neurons = [int(x) for x in np.linspace(start = 40, stop = 50, num = 5)]\n",
    "l = 0.001\n",
    "for n in n_neurons:\n",
    "    dnn_cv(2014, l,n)\n",
    "end = time. time()\n",
    "print(end - start)"
   ]
  },
  {
   "cell_type": "markdown",
   "metadata": {},
   "source": [
    "**Leaky RELU activation**"
   ]
  },
  {
   "cell_type": "code",
   "execution_count": 152,
   "metadata": {},
   "outputs": [
    {
     "name": "stdout",
     "output_type": "stream",
     "text": [
      "2010 to 2014 training set\n",
      "Activation function=Leaky RELU\n",
      "0\tValidation accuracy: 51.744390% \tLearning_rate: 0.0010\tNumber of neurons: 40\n",
      "1\tValidation accuracy: 51.905584% \tLearning_rate: 0.0010\tNumber of neurons: 40\n",
      "2\tValidation accuracy: 52.341884% \tLearning_rate: 0.0010\tNumber of neurons: 40\n",
      "3\tValidation accuracy: 52.485883% \tLearning_rate: 0.0010\tNumber of neurons: 40\n",
      "4\tValidation accuracy: 52.860928% \tLearning_rate: 0.0010\tNumber of neurons: 40\n",
      "2010 to 2014 training set\n",
      "Activation function=Leaky RELU\n",
      "0\tValidation accuracy: 51.792210% \tLearning_rate: 0.0010\tNumber of neurons: 42\n",
      "1\tValidation accuracy: 51.888925% \tLearning_rate: 0.0010\tNumber of neurons: 42\n",
      "2\tValidation accuracy: 52.423555% \tLearning_rate: 0.0010\tNumber of neurons: 42\n",
      "3\tValidation accuracy: 52.583134% \tLearning_rate: 0.0010\tNumber of neurons: 42\n",
      "4\tValidation accuracy: 52.823317% \tLearning_rate: 0.0010\tNumber of neurons: 42\n",
      "2010 to 2014 training set\n",
      "Activation function=Leaky RELU\n",
      "0\tValidation accuracy: 51.697642% \tLearning_rate: 0.0010\tNumber of neurons: 45\n",
      "1\tValidation accuracy: 51.973283% \tLearning_rate: 0.0010\tNumber of neurons: 45\n",
      "2\tValidation accuracy: 52.158660% \tLearning_rate: 0.0010\tNumber of neurons: 45\n",
      "3\tValidation accuracy: 52.438599% \tLearning_rate: 0.0010\tNumber of neurons: 45\n",
      "4\tValidation accuracy: 52.932388% \tLearning_rate: 0.0010\tNumber of neurons: 45\n",
      "2010 to 2014 training set\n",
      "Activation function=Leaky RELU\n",
      "0\tValidation accuracy: 51.632625% \tLearning_rate: 0.0010\tNumber of neurons: 47\n",
      "1\tValidation accuracy: 51.826060% \tLearning_rate: 0.0010\tNumber of neurons: 47\n",
      "2\tValidation accuracy: 52.312869% \tLearning_rate: 0.0010\tNumber of neurons: 47\n",
      "3\tValidation accuracy: 52.787316% \tLearning_rate: 0.0010\tNumber of neurons: 47\n",
      "4\tValidation accuracy: 52.847493% \tLearning_rate: 0.0010\tNumber of neurons: 47\n",
      "2010 to 2014 training set\n",
      "Activation function=Leaky RELU\n",
      "0\tValidation accuracy: 51.822835% \tLearning_rate: 0.0010\tNumber of neurons: 50\n",
      "1\tValidation accuracy: 52.058721% \tLearning_rate: 0.0010\tNumber of neurons: 50\n",
      "2\tValidation accuracy: 52.262360% \tLearning_rate: 0.0010\tNumber of neurons: 50\n",
      "3\tValidation accuracy: 52.481043% \tLearning_rate: 0.0010\tNumber of neurons: 50\n",
      "4\tValidation accuracy: 52.639556% \tLearning_rate: 0.0010\tNumber of neurons: 50\n",
      "194.1376485824585\n"
     ]
    }
   ],
   "source": [
    "start = time. time()\n",
    "n_neurons = [int(x) for x in np.linspace(start = 40, stop = 50, num = 5)]\n",
    "l = 0.001\n",
    "for n in n_neurons:\n",
    "    dnn_cv(2014, l,n)\n",
    "end = time. time()\n",
    "print(end - start)"
   ]
  },
  {
   "cell_type": "markdown",
   "metadata": {},
   "source": [
    "<div class=\"alert alert-info\" role=\"alert\">\n",
    "  <strong>Trainig set: 2011-2015.</strong> \n",
    "\n",
    "  <u>Optimal hyperparamters</u>: \n",
    "    \n",
    "   <li>RELU activation function</li>\n",
    "      <li>Learning rate=0.001</li>\n",
    "         <li>Number of neurons=50</li>\n",
    "            <li>Hidden Layers=3</li>\n",
    "        \n",
    "</div>"
   ]
  },
  {
   "cell_type": "markdown",
   "metadata": {},
   "source": [
    "**ELU activation**"
   ]
  },
  {
   "cell_type": "code",
   "execution_count": 156,
   "metadata": {},
   "outputs": [
    {
     "name": "stdout",
     "output_type": "stream",
     "text": [
      "2011 to 2015 training set\n",
      "Activation function=ELU\n",
      "0\tValidation accuracy: 51.936287% \tLearning_rate: 0.0010\tNumber of neurons: 40\n",
      "1\tValidation accuracy: 52.104729% \tLearning_rate: 0.0010\tNumber of neurons: 40\n",
      "2\tValidation accuracy: 52.271134% \tLearning_rate: 0.0010\tNumber of neurons: 40\n",
      "3\tValidation accuracy: 52.476716% \tLearning_rate: 0.0010\tNumber of neurons: 40\n",
      "4\tValidation accuracy: 52.501655% \tLearning_rate: 0.0010\tNumber of neurons: 40\n",
      "2011 to 2015 training set\n",
      "Activation function=ELU\n",
      "0\tValidation accuracy: 51.871663% \tLearning_rate: 0.0010\tNumber of neurons: 42\n",
      "1\tValidation accuracy: 51.938832% \tLearning_rate: 0.0010\tNumber of neurons: 42\n",
      "2\tValidation accuracy: 52.299118% \tLearning_rate: 0.0010\tNumber of neurons: 42\n",
      "3\tValidation accuracy: 52.429390% \tLearning_rate: 0.0010\tNumber of neurons: 42\n",
      "4\tValidation accuracy: 52.542365% \tLearning_rate: 0.0010\tNumber of neurons: 42\n",
      "2011 to 2015 training set\n",
      "Activation function=ELU\n",
      "0\tValidation accuracy: 51.881331% \tLearning_rate: 0.0010\tNumber of neurons: 45\n",
      "1\tValidation accuracy: 51.890486% \tLearning_rate: 0.0010\tNumber of neurons: 45\n",
      "2\tValidation accuracy: 52.423793% \tLearning_rate: 0.0010\tNumber of neurons: 45\n",
      "3\tValidation accuracy: 52.464503% \tLearning_rate: 0.0010\tNumber of neurons: 45\n",
      "4\tValidation accuracy: 52.461451% \tLearning_rate: 0.0010\tNumber of neurons: 45\n",
      "2011 to 2015 training set\n",
      "Activation function=ELU\n",
      "0\tValidation accuracy: 51.734263% \tLearning_rate: 0.0010\tNumber of neurons: 47\n",
      "1\tValidation accuracy: 51.971400% \tLearning_rate: 0.0010\tNumber of neurons: 47\n",
      "2\tValidation accuracy: 52.316421% \tLearning_rate: 0.0010\tNumber of neurons: 47\n",
      "3\tValidation accuracy: 52.532184% \tLearning_rate: 0.0010\tNumber of neurons: 47\n",
      "4\tValidation accuracy: 52.565771% \tLearning_rate: 0.0010\tNumber of neurons: 47\n",
      "2011 to 2015 training set\n",
      "Activation function=ELU\n",
      "0\tValidation accuracy: 51.785153% \tLearning_rate: 0.0010\tNumber of neurons: 50\n",
      "1\tValidation accuracy: 52.059436% \tLearning_rate: 0.0010\tNumber of neurons: 50\n",
      "2\tValidation accuracy: 52.407002% \tLearning_rate: 0.0010\tNumber of neurons: 50\n",
      "3\tValidation accuracy: 52.518958% \tLearning_rate: 0.0010\tNumber of neurons: 50\n",
      "4\tValidation accuracy: 52.537274% \tLearning_rate: 0.0010\tNumber of neurons: 50\n",
      "203.33923363685608\n"
     ]
    }
   ],
   "source": [
    "start = time. time()\n",
    "n_neurons = [int(x) for x in np.linspace(start = 40, stop = 50, num = 5)]\n",
    "l = 0.001\n",
    "for n in n_neurons:\n",
    "    dnn_cv(2015, l,n)\n",
    "end = time. time()\n",
    "print(end - start)"
   ]
  },
  {
   "cell_type": "markdown",
   "metadata": {},
   "source": [
    "**RELU activation**"
   ]
  },
  {
   "cell_type": "code",
   "execution_count": 158,
   "metadata": {},
   "outputs": [
    {
     "name": "stdout",
     "output_type": "stream",
     "text": [
      "2011 to 2015 training set\n",
      "Activation function=RELU\n",
      "0\tValidation accuracy: 51.849270% \tLearning_rate: 0.0010\tNumber of neurons: 40\n",
      "1\tValidation accuracy: 52.167827% \tLearning_rate: 0.0010\tNumber of neurons: 40\n",
      "2\tValidation accuracy: 52.736247% \tLearning_rate: 0.0010\tNumber of neurons: 40\n",
      "3\tValidation accuracy: 52.919441% \tLearning_rate: 0.0010\tNumber of neurons: 40\n",
      "4\tValidation accuracy: 53.203911% \tLearning_rate: 0.0010\tNumber of neurons: 40\n",
      "2011 to 2015 training set\n",
      "Activation function=RELU\n",
      "0\tValidation accuracy: 51.680321% \tLearning_rate: 0.0010\tNumber of neurons: 42\n",
      "1\tValidation accuracy: 52.124572% \tLearning_rate: 0.0010\tNumber of neurons: 42\n",
      "2\tValidation accuracy: 52.688414% \tLearning_rate: 0.0010\tNumber of neurons: 42\n",
      "3\tValidation accuracy: 52.960664% \tLearning_rate: 0.0010\tNumber of neurons: 42\n",
      "4\tValidation accuracy: 53.160143% \tLearning_rate: 0.0010\tNumber of neurons: 42\n",
      "2011 to 2015 training set\n",
      "Activation function=RELU\n",
      "0\tValidation accuracy: 51.627398% \tLearning_rate: 0.0010\tNumber of neurons: 45\n",
      "1\tValidation accuracy: 52.046716% \tLearning_rate: 0.0010\tNumber of neurons: 45\n",
      "2\tValidation accuracy: 52.508271% \tLearning_rate: 0.0010\tNumber of neurons: 45\n",
      "3\tValidation accuracy: 52.817667% \tLearning_rate: 0.0010\tNumber of neurons: 45\n",
      "4\tValidation accuracy: 53.149456% \tLearning_rate: 0.0010\tNumber of neurons: 45\n",
      "2011 to 2015 training set\n",
      "Activation function=RELU\n",
      "0\tValidation accuracy: 51.803982% \tLearning_rate: 0.0010\tNumber of neurons: 47\n",
      "1\tValidation accuracy: 52.197850% \tLearning_rate: 0.0010\tNumber of neurons: 47\n",
      "2\tValidation accuracy: 52.878731% \tLearning_rate: 0.0010\tNumber of neurons: 47\n",
      "3\tValidation accuracy: 53.110784% \tLearning_rate: 0.0010\tNumber of neurons: 47\n",
      "4\tValidation accuracy: 53.392702% \tLearning_rate: 0.0010\tNumber of neurons: 47\n",
      "2011 to 2015 training set\n",
      "Activation function=RELU\n",
      "0\tValidation accuracy: 51.890486% \tLearning_rate: 0.0010\tNumber of neurons: 50\n",
      "1\tValidation accuracy: 52.200907% \tLearning_rate: 0.0010\tNumber of neurons: 50\n",
      "2\tValidation accuracy: 52.802908% \tLearning_rate: 0.0010\tNumber of neurons: 50\n",
      "3\tValidation accuracy: 52.981019% \tLearning_rate: 0.0010\tNumber of neurons: 50\n",
      "4\tValidation accuracy: 53.434938% \tLearning_rate: 0.0010\tNumber of neurons: 50\n",
      "204.01250004768372\n"
     ]
    }
   ],
   "source": [
    "start = time. time()\n",
    "n_neurons = [int(x) for x in np.linspace(start = 40, stop = 50, num = 5)]\n",
    "l = 0.001\n",
    "for n in n_neurons:\n",
    "    dnn_cv(2015, l,n)\n",
    "end = time. time()\n",
    "print(end - start)"
   ]
  },
  {
   "cell_type": "markdown",
   "metadata": {},
   "source": [
    "**Leaky RELU activation**"
   ]
  },
  {
   "cell_type": "code",
   "execution_count": 175,
   "metadata": {},
   "outputs": [
    {
     "name": "stdout",
     "output_type": "stream",
     "text": [
      "2011 to 2015 training set\n",
      "Activation function=Leaky_RELU\n",
      "0\tValidation accuracy: 51.924074% \tLearning_rate: 0.0010\tNumber of neurons: 40\n",
      "1\tValidation accuracy: 52.123046% \tLearning_rate: 0.0010\tNumber of neurons: 40\n",
      "2\tValidation accuracy: 52.578497% \tLearning_rate: 0.0010\tNumber of neurons: 40\n",
      "3\tValidation accuracy: 52.551013% \tLearning_rate: 0.0010\tNumber of neurons: 40\n",
      "4\tValidation accuracy: 52.883822% \tLearning_rate: 0.0010\tNumber of neurons: 40\n",
      "2011 to 2015 training set\n",
      "Activation function=Leaky_RELU\n",
      "0\tValidation accuracy: 51.755637% \tLearning_rate: 0.0010\tNumber of neurons: 42\n",
      "1\tValidation accuracy: 52.208030% \tLearning_rate: 0.0010\tNumber of neurons: 42\n",
      "2\tValidation accuracy: 52.607501% \tLearning_rate: 0.0010\tNumber of neurons: 42\n",
      "3\tValidation accuracy: 52.906722% \tLearning_rate: 0.0010\tNumber of neurons: 42\n",
      "4\tValidation accuracy: 52.856344% \tLearning_rate: 0.0010\tNumber of neurons: 42\n",
      "2011 to 2015 training set\n",
      "Activation function=Leaky_RELU\n",
      "0\tValidation accuracy: 51.745456% \tLearning_rate: 0.0010\tNumber of neurons: 45\n",
      "1\tValidation accuracy: 52.020252% \tLearning_rate: 0.0010\tNumber of neurons: 45\n",
      "2\tValidation accuracy: 52.559668% \tLearning_rate: 0.0010\tNumber of neurons: 45\n",
      "3\tValidation accuracy: 52.624804% \tLearning_rate: 0.0010\tNumber of neurons: 45\n",
      "4\tValidation accuracy: 52.814108% \tLearning_rate: 0.0010\tNumber of neurons: 45\n",
      "2011 to 2015 training set\n",
      "Activation function=Leaky_RELU\n",
      "0\tValidation accuracy: 51.873696% \tLearning_rate: 0.0010\tNumber of neurons: 47\n",
      "1\tValidation accuracy: 52.114904% \tLearning_rate: 0.0010\tNumber of neurons: 47\n",
      "2\tValidation accuracy: 52.559155% \tLearning_rate: 0.0010\tNumber of neurons: 47\n",
      "3\tValidation accuracy: 52.724034% \tLearning_rate: 0.0010\tNumber of neurons: 47\n",
      "4\tValidation accuracy: 52.875680% \tLearning_rate: 0.0010\tNumber of neurons: 47\n",
      "2011 to 2015 training set\n",
      "Activation function=Leaky_RELU\n",
      "0\tValidation accuracy: 51.810592% \tLearning_rate: 0.0010\tNumber of neurons: 50\n",
      "1\tValidation accuracy: 52.208030% \tLearning_rate: 0.0010\tNumber of neurons: 50\n",
      "2\tValidation accuracy: 52.585113% \tLearning_rate: 0.0010\tNumber of neurons: 50\n",
      "3\tValidation accuracy: 52.674675% \tLearning_rate: 0.0010\tNumber of neurons: 50\n",
      "4\tValidation accuracy: 52.878731% \tLearning_rate: 0.0010\tNumber of neurons: 50\n",
      "202.15282940864563\n"
     ]
    }
   ],
   "source": [
    "start = time. time()\n",
    "n_neurons = [int(x) for x in np.linspace(start = 40, stop = 50, num = 5)]\n",
    "l = 0.001\n",
    "for n in n_neurons:\n",
    "    dnn_cv(2015, l,n)\n",
    "end = time. time()\n",
    "print(end - start)"
   ]
  },
  {
   "cell_type": "markdown",
   "metadata": {},
   "source": [
    "<div class=\"alert alert-info\" role=\"alert\">\n",
    "  <strong>Trainig set: 2012-2016.</strong> \n",
    "\n",
    "  <u>Optimal hyperparamters</u>: \n",
    "    \n",
    "   <li>RELU activation function</li>\n",
    "      <li>Learning rate=0.001</li>\n",
    "         <li>Number of neurons=50</li>\n",
    "            <li>Hidden Layers=3</li>\n",
    "        \n",
    "</div>"
   ]
  },
  {
   "cell_type": "markdown",
   "metadata": {},
   "source": [
    "**ELU activation**"
   ]
  },
  {
   "cell_type": "code",
   "execution_count": 177,
   "metadata": {},
   "outputs": [
    {
     "name": "stdout",
     "output_type": "stream",
     "text": [
      "2012 to 2016 training set\n",
      "Activation function=ELU\n",
      "0\tValidation accuracy: 51.595616% \tLearning_rate: 0.0010\tNumber of neurons: 40\n",
      "1\tValidation accuracy: 51.769710% \tLearning_rate: 0.0010\tNumber of neurons: 40\n",
      "2\tValidation accuracy: 52.059865% \tLearning_rate: 0.0010\tNumber of neurons: 40\n",
      "3\tValidation accuracy: 52.356362% \tLearning_rate: 0.0010\tNumber of neurons: 40\n",
      "4\tValidation accuracy: 52.457792% \tLearning_rate: 0.0010\tNumber of neurons: 40\n",
      "2012 to 2016 training set\n",
      "Activation function=ELU\n",
      "0\tValidation accuracy: 51.545388% \tLearning_rate: 0.0010\tNumber of neurons: 42\n",
      "1\tValidation accuracy: 51.941365% \tLearning_rate: 0.0010\tNumber of neurons: 42\n",
      "2\tValidation accuracy: 52.261269% \tLearning_rate: 0.0010\tNumber of neurons: 42\n",
      "3\tValidation accuracy: 52.482665% \tLearning_rate: 0.0010\tNumber of neurons: 42\n",
      "4\tValidation accuracy: 52.562153% \tLearning_rate: 0.0010\tNumber of neurons: 42\n",
      "2012 to 2016 training set\n",
      "Activation function=ELU\n",
      "0\tValidation accuracy: 51.581472% \tLearning_rate: 0.0010\tNumber of neurons: 45\n",
      "1\tValidation accuracy: 51.775074% \tLearning_rate: 0.0010\tNumber of neurons: 45\n",
      "2\tValidation accuracy: 52.166665% \tLearning_rate: 0.0010\tNumber of neurons: 45\n",
      "3\tValidation accuracy: 52.272481% \tLearning_rate: 0.0010\tNumber of neurons: 45\n",
      "4\tValidation accuracy: 52.523625% \tLearning_rate: 0.0010\tNumber of neurons: 45\n",
      "2012 to 2016 training set\n",
      "Activation function=ELU\n",
      "0\tValidation accuracy: 51.571232% \tLearning_rate: 0.0010\tNumber of neurons: 47\n",
      "1\tValidation accuracy: 52.057916% \tLearning_rate: 0.0010\tNumber of neurons: 47\n",
      "2\tValidation accuracy: 52.346122% \tLearning_rate: 0.0010\tNumber of neurons: 47\n",
      "3\tValidation accuracy: 52.416342% \tLearning_rate: 0.0010\tNumber of neurons: 47\n",
      "4\tValidation accuracy: 52.723080% \tLearning_rate: 0.0010\tNumber of neurons: 47\n",
      "2012 to 2016 training set\n",
      "Activation function=ELU\n",
      "0\tValidation accuracy: 51.558065% \tLearning_rate: 0.0010\tNumber of neurons: 50\n",
      "1\tValidation accuracy: 52.000856% \tLearning_rate: 0.0010\tNumber of neurons: 50\n",
      "2\tValidation accuracy: 52.341241% \tLearning_rate: 0.0010\tNumber of neurons: 50\n",
      "3\tValidation accuracy: 52.404636% \tLearning_rate: 0.0010\tNumber of neurons: 50\n",
      "4\tValidation accuracy: 52.684069% \tLearning_rate: 0.0010\tNumber of neurons: 50\n",
      "211.0631377696991\n"
     ]
    }
   ],
   "source": [
    "start = time. time()\n",
    "n_neurons = [int(x) for x in np.linspace(start = 40, stop = 50, num = 5)]\n",
    "l = 0.001\n",
    "for n in n_neurons:\n",
    "    dnn_cv(2016, l,n)\n",
    "end = time. time()\n",
    "print(end - start)"
   ]
  },
  {
   "cell_type": "markdown",
   "metadata": {},
   "source": [
    "**ELU activation**"
   ]
  },
  {
   "cell_type": "code",
   "execution_count": 179,
   "metadata": {},
   "outputs": [
    {
     "name": "stdout",
     "output_type": "stream",
     "text": [
      "2012 to 2016 training set\n",
      "Activation function=RELU\n",
      "0\tValidation accuracy: 51.404452% \tLearning_rate: 0.0010\tNumber of neurons: 40\n",
      "1\tValidation accuracy: 51.871628% \tLearning_rate: 0.0010\tNumber of neurons: 40\n",
      "2\tValidation accuracy: 52.496320% \tLearning_rate: 0.0010\tNumber of neurons: 40\n",
      "3\tValidation accuracy: 52.791351% \tLearning_rate: 0.0010\tNumber of neurons: 40\n",
      "4\tValidation accuracy: 53.084433% \tLearning_rate: 0.0010\tNumber of neurons: 40\n",
      "2012 to 2016 training set\n",
      "Activation function=RELU\n",
      "0\tValidation accuracy: 51.608294% \tLearning_rate: 0.0010\tNumber of neurons: 42\n",
      "1\tValidation accuracy: 52.436823% \tLearning_rate: 0.0010\tNumber of neurons: 42\n",
      "2\tValidation accuracy: 52.794278% \tLearning_rate: 0.0010\tNumber of neurons: 42\n",
      "3\tValidation accuracy: 53.062975% \tLearning_rate: 0.0010\tNumber of neurons: 42\n",
      "4\tValidation accuracy: 53.158069% \tLearning_rate: 0.0010\tNumber of neurons: 42\n",
      "2012 to 2016 training set\n",
      "Activation function=RELU\n",
      "0\tValidation accuracy: 51.583910% \tLearning_rate: 0.0010\tNumber of neurons: 45\n",
      "1\tValidation accuracy: 52.221769% \tLearning_rate: 0.0010\tNumber of neurons: 45\n",
      "2\tValidation accuracy: 52.712840% \tLearning_rate: 0.0010\tNumber of neurons: 45\n",
      "3\tValidation accuracy: 53.063464% \tLearning_rate: 0.0010\tNumber of neurons: 45\n",
      "4\tValidation accuracy: 53.376055% \tLearning_rate: 0.0010\tNumber of neurons: 45\n",
      "2012 to 2016 training set\n",
      "Activation function=RELU\n",
      "0\tValidation accuracy: 51.718503% \tLearning_rate: 0.0010\tNumber of neurons: 47\n",
      "1\tValidation accuracy: 52.376354% \tLearning_rate: 0.0010\tNumber of neurons: 47\n",
      "2\tValidation accuracy: 52.865964% \tLearning_rate: 0.0010\tNumber of neurons: 47\n",
      "3\tValidation accuracy: 53.030789% \tLearning_rate: 0.0010\tNumber of neurons: 47\n",
      "4\tValidation accuracy: 53.252673% \tLearning_rate: 0.0010\tNumber of neurons: 47\n",
      "2012 to 2016 training set\n",
      "Activation function=RELU\n",
      "0\tValidation accuracy: 51.699001% \tLearning_rate: 0.0010\tNumber of neurons: 50\n",
      "1\tValidation accuracy: 52.377331% \tLearning_rate: 0.0010\tNumber of neurons: 50\n",
      "2\tValidation accuracy: 52.738196% \tLearning_rate: 0.0010\tNumber of neurons: 50\n",
      "3\tValidation accuracy: 52.905953% \tLearning_rate: 0.0010\tNumber of neurons: 50\n",
      "4\tValidation accuracy: 53.253162% \tLearning_rate: 0.0010\tNumber of neurons: 50\n",
      "206.915607213974\n"
     ]
    }
   ],
   "source": [
    "start = time. time()\n",
    "n_neurons = [int(x) for x in np.linspace(start = 40, stop = 50, num = 5)]\n",
    "l = 0.001\n",
    "for n in n_neurons:\n",
    "    dnn_cv(2016, l,n)\n",
    "end = time. time()\n",
    "print(end - start)"
   ]
  },
  {
   "cell_type": "markdown",
   "metadata": {},
   "source": [
    "**Leaky RELU activation**"
   ]
  },
  {
   "cell_type": "code",
   "execution_count": 183,
   "metadata": {},
   "outputs": [
    {
     "name": "stdout",
     "output_type": "stream",
     "text": [
      "2012 to 2016 training set\n",
      "Activation function=Leaky RELU\n",
      "0\tValidation accuracy: 51.536119% \tLearning_rate: 0.0010\tNumber of neurons: 40\n",
      "1\tValidation accuracy: 51.824814% \tLearning_rate: 0.0010\tNumber of neurons: 40\n",
      "2\tValidation accuracy: 52.310520% \tLearning_rate: 0.0010\tNumber of neurons: 40\n",
      "3\tValidation accuracy: 52.605551% \tLearning_rate: 0.0010\tNumber of neurons: 40\n",
      "4\tValidation accuracy: 52.923995% \tLearning_rate: 0.0010\tNumber of neurons: 40\n",
      "2012 to 2016 training set\n",
      "Activation function=Leaky RELU\n",
      "0\tValidation accuracy: 51.626825% \tLearning_rate: 0.0010\tNumber of neurons: 42\n",
      "1\tValidation accuracy: 52.212989% \tLearning_rate: 0.0010\tNumber of neurons: 42\n",
      "2\tValidation accuracy: 52.689433% \tLearning_rate: 0.0010\tNumber of neurons: 42\n",
      "3\tValidation accuracy: 52.689433% \tLearning_rate: 0.0010\tNumber of neurons: 42\n",
      "4\tValidation accuracy: 52.776235% \tLearning_rate: 0.0010\tNumber of neurons: 42\n",
      "2012 to 2016 training set\n",
      "Activation function=Leaky RELU\n",
      "0\tValidation accuracy: 51.744837% \tLearning_rate: 0.0010\tNumber of neurons: 45\n",
      "1\tValidation accuracy: 52.075958% \tLearning_rate: 0.0010\tNumber of neurons: 45\n",
      "2\tValidation accuracy: 52.392936% \tLearning_rate: 0.0010\tNumber of neurons: 45\n",
      "3\tValidation accuracy: 52.647489% \tLearning_rate: 0.0010\tNumber of neurons: 45\n",
      "4\tValidation accuracy: 52.703083% \tLearning_rate: 0.0010\tNumber of neurons: 45\n",
      "2012 to 2016 training set\n",
      "Activation function=Leaky RELU\n",
      "0\tValidation accuracy: 51.543921% \tLearning_rate: 0.0010\tNumber of neurons: 47\n",
      "1\tValidation accuracy: 52.285647% \tLearning_rate: 0.0010\tNumber of neurons: 47\n",
      "2\tValidation accuracy: 52.623594% \tLearning_rate: 0.0010\tNumber of neurons: 47\n",
      "3\tValidation accuracy: 52.673340% \tLearning_rate: 0.0010\tNumber of neurons: 47\n",
      "4\tValidation accuracy: 52.926433% \tLearning_rate: 0.0010\tNumber of neurons: 47\n",
      "2012 to 2016 training set\n",
      "Activation function=Leaky RELU\n",
      "0\tValidation accuracy: 51.816523% \tLearning_rate: 0.0010\tNumber of neurons: 50\n",
      "1\tValidation accuracy: 52.409029% \tLearning_rate: 0.0010\tNumber of neurons: 50\n",
      "2\tValidation accuracy: 52.609944% \tLearning_rate: 0.0010\tNumber of neurons: 50\n",
      "3\tValidation accuracy: 52.557760% \tLearning_rate: 0.0010\tNumber of neurons: 50\n",
      "4\tValidation accuracy: 52.869862% \tLearning_rate: 0.0010\tNumber of neurons: 50\n",
      "206.37625217437744\n"
     ]
    }
   ],
   "source": [
    "start = time. time()\n",
    "n_neurons = [int(x) for x in np.linspace(start = 40, stop = 50, num = 5)]\n",
    "l = 0.001\n",
    "for n in n_neurons:\n",
    "    dnn_cv(2016, l,n)\n",
    "end = time. time()\n",
    "print(end - start)"
   ]
  },
  {
   "cell_type": "code",
   "execution_count": null,
   "metadata": {},
   "outputs": [],
   "source": [
    "# def dnn_results(year_n,l_r, n_neurons, df1, df2, df3, Option):\n",
    "    \n",
    "#     hidden units in layers.\n",
    "#     n_hidden1 = n_neurons\n",
    "#     n_hidden2 = n_neurons\n",
    "#     n_hidden3 = n_neurons\n",
    "#     n_hidden4 = n_neurons\n",
    "#     n_inputs = 33\n",
    "#     n_outputs = 2\n",
    "\n",
    "#     reset_graph()\n",
    "#     batch_norm_momentum = 0.9\n",
    "\n",
    "#     Placehoder\n",
    "#     X = tf.placeholder(tf.float32, shape=(None, n_inputs), name=\"X\")\n",
    "#     y = tf.placeholder(tf.int32, shape=(None), name=\"y\")\n",
    "#     training = tf.placeholder_with_default(False, shape=(), name='training')\n",
    "#     scale = 0.00002\n",
    "\n",
    "    #Activation function\n",
    "#     with tf.name_scope(\"dnn\"):\n",
    "#         he_init = tf.variance_scaling_initializer()\n",
    "\n",
    "#         my_batch_norm_layer = partial(\n",
    "#             tf.layers.batch_normalization,\n",
    "#             training=training,\n",
    "#             momentum=batch_norm_momentum)\n",
    "\n",
    "#         my_dense_layer = partial(\n",
    "#             tf.layers.dense,\n",
    "#             kernel_initializer=he_init, kernel_regularizer=tf.contrib.layers.l1_regularizer(scale))\n",
    "# \n",
    "#         hidden1 = my_dense_layer(X, n_hidden1, name=\"hidden1\")\n",
    "#         bn1 = tf.nn.relu(my_batch_norm_layer(hidden1))\n",
    "        \n",
    "#         hidden2 = my_dense_layer(bn1, n_hidden2, name=\"hidden2\")\n",
    "#         bn2 = tf.nn.relu(my_batch_norm_layer(hidden2))\n",
    "        \n",
    "#         hidden3 = my_dense_layer(bn2, n_hidden3, name=\"hidden3\")\n",
    "#         bn3 = tf.nn.relu(my_batch_norm_layer(hidden3))\n",
    "        \n",
    "#         hidden4 = my_dense_layer(bn3, n_hidden4, name=\"hidden4\")\n",
    "#         bn4 = tf.nn.relu(my_batch_norm_layer(hidden4))\n",
    "\n",
    "#         logits_before_bn = my_dense_layer(bn3, n_outputs, activation=None, name=\"outputs\")\n",
    "#         logits = my_batch_norm_layer(logits_before_bn)\n",
    "#         pred = tf.nn.softmax(logits)\n",
    "# \n",
    "#     Cost function\n",
    "#     with tf.name_scope(\"loss\"):\n",
    "#         xentropy = tf.nn.sparse_softmax_cross_entropy_with_logits(labels=y, logits=logits)\n",
    "#         base_loss = tf.reduce_mean(xentropy, name=\"avg_xentropy\")   \n",
    "#         reg_losses = tf.get_collection(tf.GraphKeys.REGULARIZATION_LOSSES)\n",
    "#         loss = tf.add_n([base_loss] + reg_losses, name=\"loss\")\n",
    "#  \n",
    "#         learning_rate = l_r\n",
    "#     with tf.name_scope(\"train\"):\n",
    "#         optimizer = tf.train.AdamOptimizer(learning_rate) #Adam optimizer\n",
    "#         training_op = optimizer.minimize(loss)\n",
    "#     \n",
    "#     with tf.name_scope(\"eval\"):\n",
    "#         correct = tf.nn.in_top_k(logits, y, 1)\n",
    "#         accuracy = tf.reduce_mean(tf.cast(correct, tf.float32))\n",
    "    \n",
    "#     init = tf.global_variables_initializer()\n",
    "#     \n",
    "#     train, test, X_train, Y_train, X_test, Y_test =df_year(year_n)\n",
    "#     \n",
    "#     X_train_,X_vali_,Y_train_,Y_vali_ = train_test_split(X_train, Y_train, test_size=0.1, random_state=99)\n",
    "# \n",
    "#     n_epochs and mini-batch\n",
    "#     n_epochs = 7\n",
    "#     batch_size = 1500\n",
    "# \n",
    "#     extra_update_ops = tf.get_collection(tf.GraphKeys.UPDATE_OPS)\n",
    "    \n",
    "#     print(year_n-4,\"to\", year_n,\"training set\")\n",
    "#     print(\"Activation function=ReLU\")\n",
    "#     with tf.Session() as sess:\n",
    "#         init.run()\n",
    "#         for epoch in range(n_epochs):\n",
    "#             for X_batch, y_batch in shuffle_batch(X_train_, Y_train_, batch_size):\n",
    "#                 sess.run([training_op, extra_update_ops],\n",
    "#                 feed_dict={training: True, X: X_batch, y: y_batch})\n",
    "#             accuracy_val = accuracy.eval(feed_dict={X: X_vali_, y: Y_vali_})\n",
    "#             print(epoch, \"Validation accuracy:\", accuracy_val ,\", with learning rate=\", l_r, \", number of neurons=\",  n_neurons)\n",
    "#             if epoch % 7 == 6:\n",
    "#                 yPred = sess.run(pred, feed_dict={X: df1, y: df2})\n",
    "#                 print(epoch)\n",
    "#     \n",
    "    #predict_proba_=tf.nn.softmax(logits)\n",
    "    #with tf.Session() as sess:\n",
    "        #init.run()\n",
    "        #pred=sess.run(predict_proba_, feed_dict={X: df1})    \n",
    "    \n",
    "#     res=pd.concat((df3.loc[:,['id','date','target']], pd.DataFrame(yPred,index=df3.index.copy())),axis=1) \n",
    "#     res.columns=[\"id\",\"date\",'target',\"pred_zsprob_comp\",\"Alp\"]\n",
    "#     res.index=range(len(res))\n",
    "#     \n",
    "#     if Option=='train':\n",
    "#         globals()[\"result_{}\".format(year_n)]=res.copy()\n",
    "#         print(\"result_{}\".format(year_n))\n",
    "#     elif Option=='test':\n",
    "#         globals()[\"result_{}\".format(year_n+1)]=res.copy()\n",
    "#         print(\"result_{}\".format(year_n+1))\n",
    "       \n",
    "#     return "
   ]
  },
  {
   "cell_type": "markdown",
   "metadata": {},
   "source": [
    "**Now I'll build a function to get the probabilities for the training and testing set for each year.**"
   ]
  },
  {
   "cell_type": "code",
   "execution_count": 72,
   "metadata": {},
   "outputs": [],
   "source": [
    "def dnn_results(year_n,l_r, n_neurons, df1, df2, df3, Option):\n",
    "    \n",
    "    \"\"\" \n",
    "    Parameters\n",
    "    ----------\n",
    "    year_n -> Selected year (I need this argument to call the df_year function)\n",
    "    l_r -> learning rate\n",
    "    n_neurons -> number of neurons\n",
    "    df1 -> X_train/X_test\n",
    "    df2 -> Y_train/Y_test\n",
    "    df3 -> train/test\n",
    "    Option -> \"train\" or \"test\"\n",
    "           \n",
    "    Returns\n",
    "    --------\n",
    "    Validation accuracy \n",
    "    \n",
    "    \"\"\" \n",
    "       \n",
    "    # hidden units in layers.\n",
    "    n_hidden1 = n_neurons\n",
    "    n_hidden2 = n_neurons\n",
    "    n_hidden3 = n_neurons\n",
    "    n_hidden4 = n_neurons\n",
    "    n_inputs = 33\n",
    "    n_outputs = 2\n",
    "\n",
    "    reset_graph()\n",
    "    batch_norm_momentum = 0.9\n",
    "\n",
    "    #Placehoder\n",
    "    X = tf.placeholder(tf.float32, shape=(None, n_inputs), name=\"X\")\n",
    "    y = tf.placeholder(tf.int32, shape=(None), name=\"y\")\n",
    "    training = tf.placeholder_with_default(False, shape=(), name='training')\n",
    "    scale = 0.00001\n",
    "\n",
    "    #Activation function\n",
    "    with tf.name_scope(\"dnn\"):\n",
    "        he_init = tf.variance_scaling_initializer()\n",
    "\n",
    "        my_batch_norm_layer = partial(\n",
    "            tf.layers.batch_normalization,\n",
    "            training=training,\n",
    "            momentum=batch_norm_momentum)\n",
    "\n",
    "        my_dense_layer = partial(\n",
    "            tf.layers.dense,\n",
    "            kernel_initializer=he_init, kernel_regularizer=tf.contrib.layers.l1_regularizer(scale))\n",
    "\n",
    "        hidden1 = my_dense_layer(X, n_hidden1, name=\"hidden1\")\n",
    "        bn1 = tf.nn.relu(my_batch_norm_layer(hidden1))\n",
    "        \n",
    "        hidden2 = my_dense_layer(bn1, n_hidden2, name=\"hidden2\")\n",
    "        bn2 = tf.nn.relu(my_batch_norm_layer(hidden2))\n",
    "        \n",
    "        hidden3 = my_dense_layer(bn2, n_hidden3, name=\"hidden3\")\n",
    "        bn3 = tf.nn.relu(my_batch_norm_layer(hidden3))\n",
    "\n",
    "        logits_before_bn = my_dense_layer(bn3, n_outputs, activation=None, name=\"outputs\")\n",
    "        logits = my_batch_norm_layer(logits_before_bn)\n",
    "        pred = tf.nn.softmax(logits)\n",
    "\n",
    "    #Cost function\n",
    "    with tf.name_scope(\"loss\"):\n",
    "        xentropy = tf.nn.sparse_softmax_cross_entropy_with_logits(labels=y, logits=logits)\n",
    "        base_loss = tf.reduce_mean(xentropy, name=\"avg_xentropy\")   \n",
    "        reg_losses = tf.get_collection(tf.GraphKeys.REGULARIZATION_LOSSES)\n",
    "        loss = tf.add_n([base_loss] + reg_losses, name=\"loss\")\n",
    " \n",
    "        learning_rate = l_r\n",
    "    with tf.name_scope(\"train\"):\n",
    "        optimizer = tf.train.AdamOptimizer(learning_rate) #Adam optimizer\n",
    "        training_op = optimizer.minimize(loss)\n",
    "    \n",
    "    with tf.name_scope(\"eval\"):\n",
    "        correct = tf.nn.in_top_k(logits, y, 1)\n",
    "        accuracy = tf.reduce_mean(tf.cast(correct, tf.float32))\n",
    "    \n",
    "    init = tf.global_variables_initializer()\n",
    "    saver = tf.train.Saver()\n",
    "    \n",
    "    train, test, X_train, Y_train, X_test, Y_test =df_year(year_n)\n",
    "    \n",
    "    X_train_,X_vali_,Y_train_,Y_vali_ = train_test_split(X_train, Y_train, test_size=0.1, random_state=99)\n",
    "\n",
    "    #n_epochs and mini-batch\n",
    "    n_epochs = 9\n",
    "    batch_size = 3000\n",
    "    max_checks_without_progress = 20\n",
    "    checks_without_progress = 0\n",
    "    best_loss = np.infty\n",
    "\n",
    "    extra_update_ops = tf.get_collection(tf.GraphKeys.UPDATE_OPS)\n",
    "    \n",
    "    print(year_n-4,\"to\", year_n,\"training set\")\n",
    "    print(\"Activation function=ReLU\")\n",
    "    \n",
    "    with tf.Session() as sess:\n",
    "        init.run()\n",
    "        for epoch in range(n_epochs):\n",
    "            rnd_idx = np.random.permutation(len(X_train))\n",
    "            for rnd_indices in np.array_split(rnd_idx, len(X_train) // batch_size):\n",
    "                X_batch, y_batch = X_train[rnd_indices], Y_train[rnd_indices]\n",
    "                sess.run([training_op, extra_update_ops],\n",
    "                feed_dict={training: True, X: X_batch, y: y_batch})\n",
    "            loss_val, acc_val = sess.run([loss, accuracy], feed_dict={X: X_vali_, y: Y_vali_})\n",
    "            if loss_val < best_loss:\n",
    "                save_path = saver.save(sess, \"./my_model.ckpt\")\n",
    "                best_loss = loss_val\n",
    "                checks_without_progress = 0\n",
    "            else:\n",
    "                checks_without_progress += 1\n",
    "                if checks_without_progress > max_checks_without_progress:\n",
    "                    print(\"Early stopping!\")\n",
    "                    break\n",
    "            print(\"{}\\tValidation loss: {:.6f}\\tBest loss: {:.6f}\\tAccuracy: {:.6f}% \\tLearning_rate: {:.4f}\".format(\n",
    "            epoch, loss_val, best_loss, acc_val * 100, l_r))\n",
    "    \n",
    "    with tf.Session() as sess:\n",
    "        saver.restore(sess, \"./my_model.ckpt\")\n",
    "        acc_test = accuracy.eval(feed_dict={X: X_test, y: Y_test})\n",
    "        acc_train = accuracy.eval(feed_dict={X: X_train, y: Y_train})\n",
    "        yPred = sess.run(pred, feed_dict={X: df1, y: df2})\n",
    "        print(\"Final test accuracy: {:.2f}%\".format(acc_test * 100))\n",
    "        print(\"Final train accuracy: {:.2f}%\".format(acc_train * 100))\n",
    " \n",
    "    \n",
    "    res=pd.concat((df3.loc[:,['id','date','target']], pd.DataFrame(yPred,index=df3.index.copy())),axis=1) \n",
    "    res.columns=[\"id\",\"date\",'target',\"pred_zsprob_comp\",\"Alp\"]\n",
    "    res.index=range(len(res))\n",
    "    \n",
    "    if Option=='train':\n",
    "        globals()[\"result_{}\".format(year_n)]=res.copy()\n",
    "        print(\"result_{}\".format(year_n))\n",
    "    elif Option=='test':\n",
    "        globals()[\"result_{}\".format(year_n+1)]=res.copy()\n",
    "        print(\"result_{}\".format(year_n+1))\n",
    "       \n",
    "    return "
   ]
  },
  {
   "cell_type": "markdown",
   "metadata": {},
   "source": [
    "**In sample probabilities**"
   ]
  },
  {
   "cell_type": "code",
   "execution_count": 73,
   "metadata": {},
   "outputs": [
    {
     "name": "stdout",
     "output_type": "stream",
     "text": [
      "2008 to 2012 training set\n",
      "Activation function=ReLU\n",
      "0\tValidation loss: 0.698094\tBest loss: 0.698094\tAccuracy: 51.762426% \tLearning_rate: 0.0010\n",
      "1\tValidation loss: 0.696473\tBest loss: 0.696473\tAccuracy: 52.428550% \tLearning_rate: 0.0010\n",
      "2\tValidation loss: 0.694655\tBest loss: 0.694655\tAccuracy: 52.949429% \tLearning_rate: 0.0010\n",
      "3\tValidation loss: 0.693191\tBest loss: 0.693191\tAccuracy: 53.421289% \tLearning_rate: 0.0010\n",
      "4\tValidation loss: 0.692034\tBest loss: 0.692034\tAccuracy: 53.530371% \tLearning_rate: 0.0010\n",
      "5\tValidation loss: 0.690714\tBest loss: 0.690714\tAccuracy: 54.020613% \tLearning_rate: 0.0010\n",
      "6\tValidation loss: 0.689935\tBest loss: 0.689935\tAccuracy: 54.113150% \tLearning_rate: 0.0010\n",
      "7\tValidation loss: 0.689200\tBest loss: 0.689200\tAccuracy: 54.309857% \tLearning_rate: 0.0010\n",
      "8\tValidation loss: 0.688309\tBest loss: 0.688309\tAccuracy: 54.567850% \tLearning_rate: 0.0010\n",
      "INFO:tensorflow:Restoring parameters from ./my_model.ckpt\n",
      "Final test accuracy: 49.94%\n",
      "Final train accuracy: 54.65%\n",
      "result_2012\n"
     ]
    }
   ],
   "source": [
    "year_n=2012\n",
    "n_neurons = 42\n",
    "l_r = 0.001\n",
    "train, test, X_train, Y_train, X_test, Y_test=df_year(year_n)\n",
    "dnn_results(year_n, l_r, n_neurons, X_train, Y_train,train,'train')"
   ]
  },
  {
   "cell_type": "markdown",
   "metadata": {},
   "source": [
    "**Out sample probabilities**"
   ]
  },
  {
   "cell_type": "code",
   "execution_count": 74,
   "metadata": {
    "scrolled": true
   },
   "outputs": [],
   "source": [
    "year_1=2012\n",
    "year_2=2013\n",
    "year_3=2014\n",
    "year_4=2015\n",
    "year_5=2016\n",
    "\n",
    "n_neurons_1=42\n",
    "n_neurons_2_3 = 47\n",
    "n_neurons_4_5 = 50"
   ]
  },
  {
   "cell_type": "code",
   "execution_count": 75,
   "metadata": {},
   "outputs": [
    {
     "name": "stdout",
     "output_type": "stream",
     "text": [
      "2008 to 2012 training set\n",
      "Activation function=ReLU\n",
      "0\tValidation loss: 0.698094\tBest loss: 0.698094\tAccuracy: 51.762426% \tLearning_rate: 0.0010\n",
      "1\tValidation loss: 0.696473\tBest loss: 0.696473\tAccuracy: 52.428550% \tLearning_rate: 0.0010\n",
      "2\tValidation loss: 0.694655\tBest loss: 0.694655\tAccuracy: 52.949429% \tLearning_rate: 0.0010\n",
      "3\tValidation loss: 0.693191\tBest loss: 0.693191\tAccuracy: 53.421289% \tLearning_rate: 0.0010\n",
      "4\tValidation loss: 0.692034\tBest loss: 0.692034\tAccuracy: 53.530371% \tLearning_rate: 0.0010\n",
      "5\tValidation loss: 0.690714\tBest loss: 0.690714\tAccuracy: 54.020613% \tLearning_rate: 0.0010\n",
      "6\tValidation loss: 0.689935\tBest loss: 0.689935\tAccuracy: 54.113150% \tLearning_rate: 0.0010\n",
      "7\tValidation loss: 0.689200\tBest loss: 0.689200\tAccuracy: 54.309857% \tLearning_rate: 0.0010\n",
      "8\tValidation loss: 0.688309\tBest loss: 0.688309\tAccuracy: 54.567850% \tLearning_rate: 0.0010\n",
      "INFO:tensorflow:Restoring parameters from ./my_model.ckpt\n",
      "Final test accuracy: 49.94%\n",
      "Final train accuracy: 54.65%\n",
      "result_2013\n"
     ]
    }
   ],
   "source": [
    "train, test, X_train, Y_train, X_test, Y_test=df_year(year_1)\n",
    "dnn_results(year_1, l_r, n_neurons_1, X_test,Y_test,test,'test')"
   ]
  },
  {
   "cell_type": "code",
   "execution_count": 76,
   "metadata": {},
   "outputs": [
    {
     "name": "stdout",
     "output_type": "stream",
     "text": [
      "2009 to 2013 training set\n",
      "Activation function=ReLU\n",
      "0\tValidation loss: 0.699133\tBest loss: 0.699133\tAccuracy: 51.876330% \tLearning_rate: 0.0010\n",
      "1\tValidation loss: 0.697362\tBest loss: 0.697362\tAccuracy: 52.370399% \tLearning_rate: 0.0010\n",
      "2\tValidation loss: 0.695429\tBest loss: 0.695429\tAccuracy: 52.841622% \tLearning_rate: 0.0010\n",
      "3\tValidation loss: 0.693741\tBest loss: 0.693741\tAccuracy: 53.337979% \tLearning_rate: 0.0010\n",
      "4\tValidation loss: 0.692326\tBest loss: 0.692326\tAccuracy: 53.689826% \tLearning_rate: 0.0010\n",
      "5\tValidation loss: 0.691298\tBest loss: 0.691298\tAccuracy: 53.891450% \tLearning_rate: 0.0010\n",
      "6\tValidation loss: 0.690305\tBest loss: 0.690305\tAccuracy: 54.094791% \tLearning_rate: 0.0010\n",
      "7\tValidation loss: 0.689439\tBest loss: 0.689439\tAccuracy: 54.364389% \tLearning_rate: 0.0010\n",
      "8\tValidation loss: 0.688919\tBest loss: 0.688919\tAccuracy: 54.472917% \tLearning_rate: 0.0010\n",
      "INFO:tensorflow:Restoring parameters from ./my_model.ckpt\n",
      "Final test accuracy: 50.60%\n",
      "Final train accuracy: 54.57%\n",
      "result_2014\n"
     ]
    }
   ],
   "source": [
    "train, test, X_train, Y_train, X_test, Y_test=df_year(year_2)\n",
    "dnn_results(year_2, l_r, n_neurons_2_3 , X_test,Y_test,test,'test')"
   ]
  },
  {
   "cell_type": "code",
   "execution_count": 77,
   "metadata": {},
   "outputs": [
    {
     "name": "stdout",
     "output_type": "stream",
     "text": [
      "2010 to 2014 training set\n",
      "Activation function=ReLU\n",
      "0\tValidation loss: 0.699077\tBest loss: 0.699077\tAccuracy: 51.696569% \tLearning_rate: 0.0010\n",
      "1\tValidation loss: 0.697618\tBest loss: 0.697618\tAccuracy: 51.960927% \tLearning_rate: 0.0010\n",
      "2\tValidation loss: 0.695874\tBest loss: 0.695874\tAccuracy: 52.566481% \tLearning_rate: 0.0010\n",
      "3\tValidation loss: 0.693991\tBest loss: 0.693991\tAccuracy: 53.109169% \tLearning_rate: 0.0010\n",
      "4\tValidation loss: 0.692645\tBest loss: 0.692645\tAccuracy: 53.290778% \tLearning_rate: 0.0010\n",
      "5\tValidation loss: 0.691987\tBest loss: 0.691987\tAccuracy: 53.476149% \tLearning_rate: 0.0010\n",
      "6\tValidation loss: 0.690703\tBest loss: 0.690703\tAccuracy: 53.889883% \tLearning_rate: 0.0010\n",
      "7\tValidation loss: 0.690111\tBest loss: 0.690111\tAccuracy: 53.942001% \tLearning_rate: 0.0010\n",
      "8\tValidation loss: 0.689164\tBest loss: 0.689164\tAccuracy: 54.277825% \tLearning_rate: 0.0010\n",
      "INFO:tensorflow:Restoring parameters from ./my_model.ckpt\n",
      "Final test accuracy: 51.27%\n",
      "Final train accuracy: 54.34%\n",
      "result_2015\n"
     ]
    }
   ],
   "source": [
    "train, test, X_train, Y_train, X_test, Y_test=df_year(year_3)\n",
    "dnn_results(year_3, l_r, n_neurons_2_3, X_test,Y_test,test,'test')"
   ]
  },
  {
   "cell_type": "code",
   "execution_count": 78,
   "metadata": {},
   "outputs": [
    {
     "name": "stdout",
     "output_type": "stream",
     "text": [
      "2011 to 2015 training set\n",
      "Activation function=ReLU\n",
      "0\tValidation loss: 0.699292\tBest loss: 0.699292\tAccuracy: 51.897615% \tLearning_rate: 0.0010\n",
      "1\tValidation loss: 0.697401\tBest loss: 0.697401\tAccuracy: 52.302176% \tLearning_rate: 0.0010\n",
      "2\tValidation loss: 0.695570\tBest loss: 0.695570\tAccuracy: 52.936238% \tLearning_rate: 0.0010\n",
      "3\tValidation loss: 0.693902\tBest loss: 0.693902\tAccuracy: 53.185081% \tLearning_rate: 0.0010\n",
      "4\tValidation loss: 0.692360\tBest loss: 0.692360\tAccuracy: 53.707188% \tLearning_rate: 0.0010\n",
      "5\tValidation loss: 0.691501\tBest loss: 0.691501\tAccuracy: 53.814566% \tLearning_rate: 0.0010\n",
      "6\tValidation loss: 0.690085\tBest loss: 0.690085\tAccuracy: 54.318357% \tLearning_rate: 0.0010\n",
      "7\tValidation loss: 0.689776\tBest loss: 0.689776\tAccuracy: 54.307669% \tLearning_rate: 0.0010\n",
      "8\tValidation loss: 0.689306\tBest loss: 0.689306\tAccuracy: 54.434377% \tLearning_rate: 0.0010\n",
      "INFO:tensorflow:Restoring parameters from ./my_model.ckpt\n",
      "Final test accuracy: 49.72%\n",
      "Final train accuracy: 54.58%\n",
      "result_2016\n"
     ]
    }
   ],
   "source": [
    "train, test, X_train, Y_train, X_test, Y_test=df_year(year_4)\n",
    "dnn_results(year_4, l_r, n_neurons_4_5, X_test,Y_test,test,'test')"
   ]
  },
  {
   "cell_type": "code",
   "execution_count": 79,
   "metadata": {},
   "outputs": [
    {
     "name": "stdout",
     "output_type": "stream",
     "text": [
      "2012 to 2016 training set\n",
      "Activation function=ReLU\n",
      "0\tValidation loss: 0.699404\tBest loss: 0.699404\tAccuracy: 51.795065% \tLearning_rate: 0.0010\n",
      "1\tValidation loss: 0.697081\tBest loss: 0.697081\tAccuracy: 52.413905% \tLearning_rate: 0.0010\n",
      "2\tValidation loss: 0.694869\tBest loss: 0.694869\tAccuracy: 53.032744% \tLearning_rate: 0.0010\n",
      "3\tValidation loss: 0.693463\tBest loss: 0.693463\tAccuracy: 53.268278% \tLearning_rate: 0.0010\n",
      "4\tValidation loss: 0.692027\tBest loss: 0.692027\tAccuracy: 53.748137% \tLearning_rate: 0.0010\n",
      "5\tValidation loss: 0.690984\tBest loss: 0.690984\tAccuracy: 54.010004% \tLearning_rate: 0.0010\n",
      "6\tValidation loss: 0.689940\tBest loss: 0.689940\tAccuracy: 54.205555% \tLearning_rate: 0.0010\n",
      "7\tValidation loss: 0.688988\tBest loss: 0.688988\tAccuracy: 54.562521% \tLearning_rate: 0.0010\n",
      "8\tValidation loss: 0.688201\tBest loss: 0.688201\tAccuracy: 54.789281% \tLearning_rate: 0.0010\n",
      "INFO:tensorflow:Restoring parameters from ./my_model.ckpt\n",
      "Final test accuracy: 50.38%\n",
      "Final train accuracy: 54.49%\n",
      "result_2017\n"
     ]
    }
   ],
   "source": [
    "train, test, X_train, Y_train, X_test, Y_test=df_year(year_5)\n",
    "dnn_results(year_5, l_r, n_neurons_4_5, X_test,Y_test,test,'test')"
   ]
  },
  {
   "cell_type": "code",
   "execution_count": 90,
   "metadata": {},
   "outputs": [],
   "source": [
    "RES_DNN=result_2012\n",
    "for i in range(2012,2018):\n",
    "    RES_DNN=pd.concat((RES,globals()[\"result_{}\".format(i)]),axis=0)\n",
    "\n",
    "DNN=RES_DNN.merge(data.loc[:,[\"id\",\"date\",\"ret_raw\",\"ret_20_raw\",\"industry\",\"flag2\"]],left_on=[\"date\",\"id\"],right_on=[\"date\",\"id\"],how=\"left\")"
   ]
  },
  {
   "cell_type": "markdown",
   "metadata": {},
   "source": [
    "## 5. Results"
   ]
  },
  {
   "cell_type": "markdown",
   "metadata": {},
   "source": [
    "**For each testing period from 2013 to 2017, we see that deep neural networks model produces an average yearly return of 5.79\\%, followed by the logistic regression with 5.76\\%, and the random forest with 4.23\\%. However, the baseline model has the highest Sharpe ratio.**"
   ]
  },
  {
   "cell_type": "markdown",
   "metadata": {},
   "source": [
    "### Back Test Framework\n",
    "\n",
    "To use this back-test framework, input a dataframe with date, alpha, ret=ret_20_raw, flag as your holding period, and keep the quantile cut at q=0.9."
   ]
  },
  {
   "cell_type": "code",
   "execution_count": 91,
   "metadata": {},
   "outputs": [],
   "source": [
    "def back_test(data,q=0.9,Alp=\"Alpha\",flag=\"flag\",date=\"date\",ret=\"ret_raw\",industry=\"industry\",Id=\"id\"):\n",
    "    data=data[data.id!='GGP US Equity']\n",
    "    data=data[data.industry!=7777]\n",
    "    data=data[data.loc[:,flag]==True]\n",
    "    data=data.loc[:,[date,Id,Alp,ret,industry]]\n",
    "    data.columns=[\"Date\",\"Id\",\"Alp\",\"Return\",\"industry\"]\n",
    "    data.index=range(len(data))\n",
    "    res=data.groupby((\"Date\")).apply(lambda x: x[x[\"Alp\"]>=x[\"Alp\"].quantile(q)].Return.mean()*0.5-\n",
    "                          x[x[\"Alp\"]<=x[\"Alp\"].quantile(1-q)].Return.mean()*0.5)\n",
    "    positions=data.groupby((\"Date\")).apply(lambda x: x[(x[\"Alp\"]>=x[\"Alp\"].quantile(q))|(x[\"Alp\"]<=x[\"Alp\"].quantile(1-q))])\n",
    "\n",
    "    long=data.groupby((\"Date\")).apply(lambda x: x[(x[\"Alp\"]>=x[\"Alp\"].quantile(q))])\n",
    "    short=data.groupby((\"Date\")).apply(lambda x: x[(x[\"Alp\"]<=x[\"Alp\"].quantile(1-q))])\n",
    "    res=res.reset_index()\n",
    "    res=res.dropna()\n",
    "    res.index=range(len(res))\n",
    "\n",
    "    globals()[\"res\"]=res\n",
    "    plt.figure(figsize=(20,10))\n",
    "    plt.plot((res.iloc[:,-1]).cumsum())\n",
    "    plt.title('Deep learning model', fontweight=\"bold\",fontsize = 30, pad=30)\n",
    "    #plt.title('Random forest', fontweight=\"bold\",fontsize = 30, pad=30)\n",
    "    #plt.title('Baseline result', fontweight=\"bold\",fontsize = 30, pad=30)\n",
    "    plt.ylabel('Accumulated yearly return',fontsize = 30)\n",
    "\n",
    "    n=int(len(res)/30)+1\n",
    "    plt.xticks(range(0,len(res),n),\n",
    "               [str(res.loc[i,\"Date\"]).split(\" \")[0] for i in range(0,len(res),n)],\n",
    "               rotation=70,\n",
    "              fontsize = 20)\n",
    "    plt.yticks(fontsize=30)\n",
    "    plt.axvline(x=len(res[res.Date<20121231]), c=\"r\")\n",
    "\n",
    "    plt.show()   \n",
    "    return long,short,res"
   ]
  },
  {
   "cell_type": "markdown",
   "metadata": {},
   "source": [
    "#### Compute Yearly Return and Sharpe Ratio"
   ]
  },
  {
   "cell_type": "code",
   "execution_count": 92,
   "metadata": {},
   "outputs": [],
   "source": [
    "def summary_return_sharpe(res,period):\n",
    "    res.loc[:,\"year\"]=(res.Date/10000).apply(int)\n",
    "    Ret=res.groupby(\"year\")[0].sum().reset_index()\n",
    "    Y10T=0.021\n",
    "    n=int(253/period)\n",
    "    Fday=(Y10T+1)**(1/n)-1\n",
    "    Sharpe=res.groupby(\"year\")[0].apply(lambda x: (x).mean()/((x).std())*np.sqrt(n)).reset_index()\n",
    "    Performance=Ret.merge(Sharpe,left_on=\"year\",right_on=\"year\",how=\"left\")\n",
    "    Performance.columns=[\"Year\",\"Return\",\"Sharpe\"]\n",
    "    return Performance"
   ]
  },
  {
   "cell_type": "markdown",
   "metadata": {},
   "source": [
    "### Baseline Result"
   ]
  },
  {
   "cell_type": "code",
   "execution_count": 42,
   "metadata": {},
   "outputs": [
    {
     "data": {
      "image/png": "[encoded data removed]",
      "text/plain": [
       "<Figure size 1440x720 with 1 Axes>"
      ]
     },
     "metadata": {
      "needs_background": "light"
     },
     "output_type": "display_data"
    },
    {
     "data": {
      "text/html": [
       "<div>\n",
       "<style scoped>\n",
       "    .dataframe tbody tr th:only-of-type {\n",
       "        vertical-align: middle;\n",
       "    }\n",
       "\n",
       "    .dataframe tbody tr th {\n",
       "        vertical-align: top;\n",
       "    }\n",
       "\n",
       "    .dataframe thead th {\n",
       "        text-align: right;\n",
       "    }\n",
       "</style>\n",
       "<table border=\"1\" class=\"dataframe\">\n",
       "  <thead>\n",
       "    <tr style=\"text-align: right;\">\n",
       "      <th></th>\n",
       "      <th>Year</th>\n",
       "      <th>Return</th>\n",
       "      <th>Sharpe</th>\n",
       "    </tr>\n",
       "  </thead>\n",
       "  <tbody>\n",
       "    <tr>\n",
       "      <th>0</th>\n",
       "      <td>2008</td>\n",
       "      <td>-0.056674</td>\n",
       "      <td>-0.692299</td>\n",
       "    </tr>\n",
       "    <tr>\n",
       "      <th>1</th>\n",
       "      <td>2009</td>\n",
       "      <td>0.361200</td>\n",
       "      <td>3.676245</td>\n",
       "    </tr>\n",
       "    <tr>\n",
       "      <th>2</th>\n",
       "      <td>2010</td>\n",
       "      <td>0.409331</td>\n",
       "      <td>3.224571</td>\n",
       "    </tr>\n",
       "    <tr>\n",
       "      <th>3</th>\n",
       "      <td>2011</td>\n",
       "      <td>0.134093</td>\n",
       "      <td>2.118230</td>\n",
       "    </tr>\n",
       "    <tr>\n",
       "      <th>4</th>\n",
       "      <td>2012</td>\n",
       "      <td>0.092953</td>\n",
       "      <td>1.429364</td>\n",
       "    </tr>\n",
       "    <tr>\n",
       "      <th>5</th>\n",
       "      <td>2013</td>\n",
       "      <td>0.114847</td>\n",
       "      <td>1.680922</td>\n",
       "    </tr>\n",
       "    <tr>\n",
       "      <th>6</th>\n",
       "      <td>2014</td>\n",
       "      <td>0.098261</td>\n",
       "      <td>1.818474</td>\n",
       "    </tr>\n",
       "    <tr>\n",
       "      <th>7</th>\n",
       "      <td>2015</td>\n",
       "      <td>0.097750</td>\n",
       "      <td>2.223340</td>\n",
       "    </tr>\n",
       "    <tr>\n",
       "      <th>8</th>\n",
       "      <td>2016</td>\n",
       "      <td>-0.038390</td>\n",
       "      <td>-1.367387</td>\n",
       "    </tr>\n",
       "    <tr>\n",
       "      <th>9</th>\n",
       "      <td>2017</td>\n",
       "      <td>0.015641</td>\n",
       "      <td>1.587530</td>\n",
       "    </tr>\n",
       "  </tbody>\n",
       "</table>\n",
       "</div>"
      ],
      "text/plain": [
       "   Year    Return    Sharpe\n",
       "0  2008 -0.056674 -0.692299\n",
       "1  2009  0.361200  3.676245\n",
       "2  2010  0.409331  3.224571\n",
       "3  2011  0.134093  2.118230\n",
       "4  2012  0.092953  1.429364\n",
       "5  2013  0.114847  1.680922\n",
       "6  2014  0.098261  1.818474\n",
       "7  2015  0.097750  2.223340\n",
       "8  2016 -0.038390 -1.367387\n",
       "9  2017  0.015641  1.587530"
      ]
     },
     "execution_count": 42,
     "metadata": {},
     "output_type": "execute_result"
    }
   ],
   "source": [
    "a3=back_test(tt,q=0.90,flag=\"flag2\",ret=\"ret_20_raw\",Alp=\"Alp\")\n",
    "summary_return_sharpe(a3[2],12)"
   ]
  },
  {
   "cell_type": "markdown",
   "metadata": {},
   "source": [
    "### Random Forest Result"
   ]
  },
  {
   "cell_type": "code",
   "execution_count": 89,
   "metadata": {},
   "outputs": [
    {
     "data": {
      "image/png": "[encoded data removed]",
      "text/plain": [
       "<Figure size 1440x720 with 1 Axes>"
      ]
     },
     "metadata": {
      "needs_background": "light"
     },
     "output_type": "display_data"
    },
    {
     "data": {
      "text/html": [
       "<div>\n",
       "<style scoped>\n",
       "    .dataframe tbody tr th:only-of-type {\n",
       "        vertical-align: middle;\n",
       "    }\n",
       "\n",
       "    .dataframe tbody tr th {\n",
       "        vertical-align: top;\n",
       "    }\n",
       "\n",
       "    .dataframe thead th {\n",
       "        text-align: right;\n",
       "    }\n",
       "</style>\n",
       "<table border=\"1\" class=\"dataframe\">\n",
       "  <thead>\n",
       "    <tr style=\"text-align: right;\">\n",
       "      <th></th>\n",
       "      <th>Year</th>\n",
       "      <th>Return</th>\n",
       "      <th>Sharpe</th>\n",
       "    </tr>\n",
       "  </thead>\n",
       "  <tbody>\n",
       "    <tr>\n",
       "      <th>0</th>\n",
       "      <td>2008</td>\n",
       "      <td>0.199600</td>\n",
       "      <td>4.654672</td>\n",
       "    </tr>\n",
       "    <tr>\n",
       "      <th>1</th>\n",
       "      <td>2009</td>\n",
       "      <td>0.465463</td>\n",
       "      <td>6.327644</td>\n",
       "    </tr>\n",
       "    <tr>\n",
       "      <th>2</th>\n",
       "      <td>2010</td>\n",
       "      <td>0.366234</td>\n",
       "      <td>4.120010</td>\n",
       "    </tr>\n",
       "    <tr>\n",
       "      <th>3</th>\n",
       "      <td>2011</td>\n",
       "      <td>0.252835</td>\n",
       "      <td>5.558153</td>\n",
       "    </tr>\n",
       "    <tr>\n",
       "      <th>4</th>\n",
       "      <td>2012</td>\n",
       "      <td>0.204690</td>\n",
       "      <td>5.753753</td>\n",
       "    </tr>\n",
       "    <tr>\n",
       "      <th>5</th>\n",
       "      <td>2013</td>\n",
       "      <td>0.084900</td>\n",
       "      <td>1.294486</td>\n",
       "    </tr>\n",
       "    <tr>\n",
       "      <th>6</th>\n",
       "      <td>2014</td>\n",
       "      <td>0.097934</td>\n",
       "      <td>1.860062</td>\n",
       "    </tr>\n",
       "    <tr>\n",
       "      <th>7</th>\n",
       "      <td>2015</td>\n",
       "      <td>0.082738</td>\n",
       "      <td>1.887559</td>\n",
       "    </tr>\n",
       "    <tr>\n",
       "      <th>8</th>\n",
       "      <td>2016</td>\n",
       "      <td>-0.060479</td>\n",
       "      <td>-1.658501</td>\n",
       "    </tr>\n",
       "    <tr>\n",
       "      <th>9</th>\n",
       "      <td>2017</td>\n",
       "      <td>0.006680</td>\n",
       "      <td>1.662077</td>\n",
       "    </tr>\n",
       "  </tbody>\n",
       "</table>\n",
       "</div>"
      ],
      "text/plain": [
       "   Year    Return    Sharpe\n",
       "0  2008  0.199600  4.654672\n",
       "1  2009  0.465463  6.327644\n",
       "2  2010  0.366234  4.120010\n",
       "3  2011  0.252835  5.558153\n",
       "4  2012  0.204690  5.753753\n",
       "5  2013  0.084900  1.294486\n",
       "6  2014  0.097934  1.860062\n",
       "7  2015  0.082738  1.887559\n",
       "8  2016 -0.060479 -1.658501\n",
       "9  2017  0.006680  1.662077"
      ]
     },
     "execution_count": 89,
     "metadata": {},
     "output_type": "execute_result"
    }
   ],
   "source": [
    "a4=back_test(RF,q=0.90,flag=\"flag2\",ret=\"ret_20_raw\",Alp=\"Alp\")\n",
    "summary_return_sharpe(a4[2],12)"
   ]
  },
  {
   "cell_type": "markdown",
   "metadata": {},
   "source": [
    "### Deep Learning Model"
   ]
  },
  {
   "cell_type": "code",
   "execution_count": 93,
   "metadata": {},
   "outputs": [
    {
     "data": {
      "image/png": "[encoded data removed]",
      "text/plain": [
       "<Figure size 1440x720 with 1 Axes>"
      ]
     },
     "metadata": {
      "needs_background": "light"
     },
     "output_type": "display_data"
    },
    {
     "data": {
      "text/html": [
       "<div>\n",
       "<style scoped>\n",
       "    .dataframe tbody tr th:only-of-type {\n",
       "        vertical-align: middle;\n",
       "    }\n",
       "\n",
       "    .dataframe tbody tr th {\n",
       "        vertical-align: top;\n",
       "    }\n",
       "\n",
       "    .dataframe thead th {\n",
       "        text-align: right;\n",
       "    }\n",
       "</style>\n",
       "<table border=\"1\" class=\"dataframe\">\n",
       "  <thead>\n",
       "    <tr style=\"text-align: right;\">\n",
       "      <th></th>\n",
       "      <th>Year</th>\n",
       "      <th>Return</th>\n",
       "      <th>Sharpe</th>\n",
       "    </tr>\n",
       "  </thead>\n",
       "  <tbody>\n",
       "    <tr>\n",
       "      <th>0</th>\n",
       "      <td>2008</td>\n",
       "      <td>0.112119</td>\n",
       "      <td>1.942865</td>\n",
       "    </tr>\n",
       "    <tr>\n",
       "      <th>1</th>\n",
       "      <td>2009</td>\n",
       "      <td>0.465010</td>\n",
       "      <td>4.805855</td>\n",
       "    </tr>\n",
       "    <tr>\n",
       "      <th>2</th>\n",
       "      <td>2010</td>\n",
       "      <td>0.454794</td>\n",
       "      <td>4.241634</td>\n",
       "    </tr>\n",
       "    <tr>\n",
       "      <th>3</th>\n",
       "      <td>2011</td>\n",
       "      <td>0.173923</td>\n",
       "      <td>3.438949</td>\n",
       "    </tr>\n",
       "    <tr>\n",
       "      <th>4</th>\n",
       "      <td>2012</td>\n",
       "      <td>0.203762</td>\n",
       "      <td>3.840502</td>\n",
       "    </tr>\n",
       "    <tr>\n",
       "      <th>5</th>\n",
       "      <td>2013</td>\n",
       "      <td>0.167185</td>\n",
       "      <td>2.433415</td>\n",
       "    </tr>\n",
       "    <tr>\n",
       "      <th>6</th>\n",
       "      <td>2014</td>\n",
       "      <td>0.096976</td>\n",
       "      <td>1.435444</td>\n",
       "    </tr>\n",
       "    <tr>\n",
       "      <th>7</th>\n",
       "      <td>2015</td>\n",
       "      <td>0.115605</td>\n",
       "      <td>2.608061</td>\n",
       "    </tr>\n",
       "    <tr>\n",
       "      <th>8</th>\n",
       "      <td>2016</td>\n",
       "      <td>-0.115591</td>\n",
       "      <td>-2.614055</td>\n",
       "    </tr>\n",
       "    <tr>\n",
       "      <th>9</th>\n",
       "      <td>2017</td>\n",
       "      <td>0.025171</td>\n",
       "      <td>1.593722</td>\n",
       "    </tr>\n",
       "  </tbody>\n",
       "</table>\n",
       "</div>"
      ],
      "text/plain": [
       "   Year    Return    Sharpe\n",
       "0  2008  0.112119  1.942865\n",
       "1  2009  0.465010  4.805855\n",
       "2  2010  0.454794  4.241634\n",
       "3  2011  0.173923  3.438949\n",
       "4  2012  0.203762  3.840502\n",
       "5  2013  0.167185  2.433415\n",
       "6  2014  0.096976  1.435444\n",
       "7  2015  0.115605  2.608061\n",
       "8  2016 -0.115591 -2.614055\n",
       "9  2017  0.025171  1.593722"
      ]
     },
     "execution_count": 93,
     "metadata": {},
     "output_type": "execute_result"
    }
   ],
   "source": [
    "a5=back_test(DNN,q=0.90,flag=\"flag2\",ret=\"ret_20_raw\",Alp=\"Alp\")\n",
    "summary_return_sharpe(a5[2],12)"
   ]
  }
 ],
 "metadata": {
  "kernelspec": {
   "display_name": "Python 3",
   "language": "python",
   "name": "python3"
  },
  "language_info": {
   "codemirror_mode": {
    "name": "ipython",
    "version": 3
   },
   "file_extension": ".py",
   "mimetype": "text/x-python",
   "name": "python",
   "nbconvert_exporter": "python",
   "pygments_lexer": "ipython3",
   "version": "3.7.1"
  }
 },
 "nbformat": 4,
 "nbformat_minor": 2
}
